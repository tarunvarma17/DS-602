{
 "cells": [
  {
   "cell_type": "code",
   "execution_count": 1,
   "id": "8209e814",
   "metadata": {},
   "outputs": [],
   "source": [
    "import pandas as pd\n",
    "import numpy as np\n",
    "import matplotlib.pyplot as plt"
   ]
  },
  {
   "cell_type": "code",
   "execution_count": 2,
   "id": "7e581320",
   "metadata": {},
   "outputs": [],
   "source": [
    "def test_df():\n",
    "    df = pd.read_csv('https://raw.githubusercontent.com/msaricaumbc/DS_data/master/ds602/car_prices/car_prices.csv', low_memory=False)\n",
    "\n",
    "    df = df.sample(5000, random_state=100).reset_index(drop=True)\n",
    "    \n",
    "    y = df['sellingprice']\n",
    "    df.drop('sellingprice', axis=1, inplace=True)\n",
    "    X = df\n",
    "    \n",
    "    return X,y\n",
    "\n",
    "def partial_df():\n",
    "    df = pd.read_csv('https://raw.githubusercontent.com/msaricaumbc/DS_data/master/ds602/car_prices/car_prices.csv', low_memory=False)\n",
    "   \n",
    "    while(True):\n",
    "        yield df.sample(100).reset_index(drop=True)\n",
    "        \n",
    "gen = partial_df()"
   ]
  },
  {
   "cell_type": "code",
   "execution_count": 3,
   "id": "f3b43301",
   "metadata": {},
   "outputs": [],
   "source": [
    "X, y = test_df()"
   ]
  },
  {
   "cell_type": "code",
   "execution_count": 4,
   "id": "bd7df76f",
   "metadata": {},
   "outputs": [
    {
     "data": {
      "text/plain": [
       "49"
      ]
     },
     "execution_count": 4,
     "metadata": {},
     "output_type": "execute_result"
    }
   ],
   "source": [
    "len(X[\"body\"].unique())"
   ]
  },
  {
   "cell_type": "code",
   "execution_count": 5,
   "id": "ef1db5b4",
   "metadata": {},
   "outputs": [
    {
     "data": {
      "text/plain": [
       "year              0\n",
       "make             95\n",
       "model            95\n",
       "trim             95\n",
       "body            121\n",
       "transmission    593\n",
       "vin               0\n",
       "state             0\n",
       "condition       110\n",
       "odometer          0\n",
       "color            11\n",
       "interior         11\n",
       "seller            0\n",
       "mmr               0\n",
       "saledate          0\n",
       "dtype: int64"
      ]
     },
     "execution_count": 5,
     "metadata": {},
     "output_type": "execute_result"
    }
   ],
   "source": [
    "X.isna().sum()"
   ]
  },
  {
   "cell_type": "code",
   "execution_count": 6,
   "id": "d775a520",
   "metadata": {},
   "outputs": [
    {
     "data": {
      "text/plain": [
       "year              int64\n",
       "make             object\n",
       "model            object\n",
       "trim             object\n",
       "body             object\n",
       "transmission     object\n",
       "vin              object\n",
       "state            object\n",
       "condition        object\n",
       "odometer        float64\n",
       "color            object\n",
       "interior         object\n",
       "seller           object\n",
       "mmr              object\n",
       "saledate         object\n",
       "dtype: object"
      ]
     },
     "execution_count": 6,
     "metadata": {},
     "output_type": "execute_result"
    }
   ],
   "source": [
    "X.dtypes"
   ]
  },
  {
   "cell_type": "markdown",
   "id": "21ca6a24",
   "metadata": {},
   "source": [
    "1. replace null and 'sedan' value from transmission to 'automatic'\n",
    "2. convert mmr, condition to numerical (0 for nulls)\n",
    "3. drop make nulls\n",
    "4. perform ohe on make, body, transmission, (state)\n",
    "5. join these with year, condition, mmr, odometer\n",
    "6. selling price is the y"
   ]
  },
  {
   "cell_type": "markdown",
   "id": "0844589e",
   "metadata": {},
   "source": [
    "### Trying to reduce the number of unique columns"
   ]
  },
  {
   "cell_type": "code",
   "execution_count": 7,
   "id": "44774f76",
   "metadata": {},
   "outputs": [
    {
     "data": {
      "text/plain": [
       "58"
      ]
     },
     "execution_count": 7,
     "metadata": {},
     "output_type": "execute_result"
    }
   ],
   "source": [
    "X[\"make\"].nunique()"
   ]
  },
  {
   "cell_type": "code",
   "execution_count": 8,
   "id": "8dc9f6c2",
   "metadata": {},
   "outputs": [
    {
     "data": {
      "text/plain": [
       "46"
      ]
     },
     "execution_count": 8,
     "metadata": {},
     "output_type": "execute_result"
    }
   ],
   "source": [
    "X['make'] = X['make'].str.lower()\n",
    "X[\"make\"].nunique()"
   ]
  },
  {
   "cell_type": "code",
   "execution_count": 9,
   "id": "4b41f3c3",
   "metadata": {},
   "outputs": [
    {
     "data": {
      "text/plain": [
       "48"
      ]
     },
     "execution_count": 9,
     "metadata": {},
     "output_type": "execute_result"
    }
   ],
   "source": [
    "X[\"body\"].nunique()"
   ]
  },
  {
   "cell_type": "code",
   "execution_count": 10,
   "id": "90f7e296",
   "metadata": {},
   "outputs": [
    {
     "data": {
      "text/plain": [
       "27"
      ]
     },
     "execution_count": 10,
     "metadata": {},
     "output_type": "execute_result"
    }
   ],
   "source": [
    "X['body'] = X['body'].str.lower()\n",
    "X[\"body\"].nunique()"
   ]
  },
  {
   "cell_type": "markdown",
   "id": "c384f11f",
   "metadata": {},
   "source": [
    "### Dealing with null values"
   ]
  },
  {
   "cell_type": "code",
   "execution_count": 11,
   "id": "87937278",
   "metadata": {},
   "outputs": [],
   "source": [
    "X['transmission'] = X['transmission'].fillna('automatic').replace('sedan', 'automatic')"
   ]
  },
  {
   "cell_type": "code",
   "execution_count": 12,
   "id": "501e096b",
   "metadata": {},
   "outputs": [],
   "source": [
    "X['condition'] = pd.to_numeric(X['condition'], errors='coerce')\n",
    "X['mmr'] = pd.to_numeric(X['mmr'], errors='coerce')"
   ]
  },
  {
   "cell_type": "code",
   "execution_count": 13,
   "id": "a683da6d",
   "metadata": {},
   "outputs": [],
   "source": [
    "mean_cond = X['condition'].mean()\n",
    "X['condition'] = X['condition'].fillna(mean_cond)"
   ]
  },
  {
   "cell_type": "code",
   "execution_count": 20,
   "id": "4912c909",
   "metadata": {},
   "outputs": [],
   "source": [
    "most_common_make = X['make'].mode()[0]\n",
    "X['make'] = X['make'].fillna(most_common_make)\n",
    "\n",
    "most_common_body = X['body'].mode()[0]\n",
    "X['body'] = X['body'].fillna(most_common_body)\n",
    "\n",
    "mean_mmr = X['mmr'].mean()\n",
    "X['mmr'] = X['mmr'].fillna(mean_mmr)"
   ]
  },
  {
   "cell_type": "markdown",
   "id": "4cf4be23",
   "metadata": {},
   "source": [
    "### Filtering into a new df"
   ]
  },
  {
   "cell_type": "code",
   "execution_count": 37,
   "id": "a3ed9e33",
   "metadata": {},
   "outputs": [],
   "source": [
    "df = X.loc[:, ['make', 'body', 'transmission', 'condition', 'odometer', 'mmr']]"
   ]
  },
  {
   "cell_type": "code",
   "execution_count": 38,
   "id": "51d9ad05",
   "metadata": {},
   "outputs": [
    {
     "data": {
      "text/plain": [
       "make            0\n",
       "body            0\n",
       "transmission    0\n",
       "condition       0\n",
       "odometer        0\n",
       "mmr             0\n",
       "dtype: int64"
      ]
     },
     "execution_count": 38,
     "metadata": {},
     "output_type": "execute_result"
    }
   ],
   "source": [
    "df.isna().sum()"
   ]
  },
  {
   "cell_type": "markdown",
   "id": "3e13f816",
   "metadata": {},
   "source": [
    "### Performing one hot encoding, and standard scaling on data"
   ]
  },
  {
   "cell_type": "code",
   "execution_count": 39,
   "id": "196137aa",
   "metadata": {},
   "outputs": [],
   "source": [
    "df = pd.get_dummies(df, columns=['make', 'body', 'transmission'])"
   ]
  },
  {
   "cell_type": "code",
   "execution_count": 42,
   "id": "42d74d83",
   "metadata": {},
   "outputs": [],
   "source": [
    "from sklearn.preprocessing import StandardScaler\n",
    "\n",
    "scaler = StandardScaler()\n",
    "df[['condition', 'odometer', 'mmr']] = scaler.fit_transform(df[['condition', 'odometer', 'mmr']])"
   ]
  },
  {
   "cell_type": "code",
   "execution_count": 44,
   "id": "f124cdb9",
   "metadata": {},
   "outputs": [
    {
     "data": {
      "text/plain": [
       "(5000, 79)"
      ]
     },
     "execution_count": 44,
     "metadata": {},
     "output_type": "execute_result"
    }
   ],
   "source": [
    "df.shape"
   ]
  },
  {
   "cell_type": "markdown",
   "id": "38109336",
   "metadata": {},
   "source": [
    "### Fitting the model"
   ]
  },
  {
   "cell_type": "code",
   "execution_count": 45,
   "id": "a858fa37",
   "metadata": {},
   "outputs": [],
   "source": [
    "from sklearn.linear_model import SGDRegressor\n",
    "\n",
    "sgd = SGDRegressor(alpha = 0.001)\n",
    "batch_size = 10\n",
    "for i in range(0, len(df), batch_size):\n",
    "    X_batch = df[i:i+batch_size]\n",
    "    y_batch = y[i:i+batch_size]\n",
    "    sgd.partial_fit(X_batch, y_batch)"
   ]
  },
  {
   "cell_type": "code",
   "execution_count": 46,
   "id": "66229714",
   "metadata": {},
   "outputs": [
    {
     "name": "stdout",
     "output_type": "stream",
     "text": [
      "0.9679654854828814\n"
     ]
    }
   ],
   "source": [
    "acc = sgd.score(df, y)\n",
    "print(acc)"
   ]
  },
  {
   "cell_type": "markdown",
   "id": "11d5f583",
   "metadata": {},
   "source": [
    "### Saving as pickle file"
   ]
  },
  {
   "cell_type": "code",
   "execution_count": 48,
   "id": "d1015e79",
   "metadata": {},
   "outputs": [],
   "source": [
    "import pickle\n",
    "\n",
    "with open('sgd_model.pkl', 'wb') as file:\n",
    "    pickle.dump(sgd, file)"
   ]
  }
 ],
 "metadata": {
  "kernelspec": {
   "display_name": "Python 3 (ipykernel)",
   "language": "python",
   "name": "python3"
  },
  "language_info": {
   "codemirror_mode": {
    "name": "ipython",
    "version": 3
   },
   "file_extension": ".py",
   "mimetype": "text/x-python",
   "name": "python",
   "nbconvert_exporter": "python",
   "pygments_lexer": "ipython3",
   "version": "3.10.6"
  }
 },
 "nbformat": 4,
 "nbformat_minor": 5
}
