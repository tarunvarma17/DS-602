{
 "cells": [
  {
   "cell_type": "code",
   "execution_count": 1,
   "id": "5e002c9d",
   "metadata": {},
   "outputs": [
    {
     "name": "stdout",
     "output_type": "stream",
     "text": [
      "<class 'pandas.core.frame.DataFrame'>\n",
      "RangeIndex: 558837 entries, 0 to 558836\n",
      "Data columns (total 16 columns):\n",
      " #   Column        Non-Null Count   Dtype  \n",
      "---  ------        --------------   -----  \n",
      " 0   year          558837 non-null  int64  \n",
      " 1   make          548536 non-null  object \n",
      " 2   model         548438 non-null  object \n",
      " 3   trim          548186 non-null  object \n",
      " 4   body          545642 non-null  object \n",
      " 5   transmission  493484 non-null  object \n",
      " 6   vin           558833 non-null  object \n",
      " 7   state         558837 non-null  object \n",
      " 8   condition     547043 non-null  object \n",
      " 9   odometer      558743 non-null  float64\n",
      " 10  color         558088 non-null  object \n",
      " 11  interior      558088 non-null  object \n",
      " 12  seller        558837 non-null  object \n",
      " 13  mmr           558837 non-null  object \n",
      " 14  sellingprice  558837 non-null  int64  \n",
      " 15  saledate      558837 non-null  object \n",
      "dtypes: float64(1), int64(2), object(13)\n",
      "memory usage: 68.2+ MB\n"
     ]
    }
   ],
   "source": [
    "import pandas as pd\n",
    "import numpy as np\n",
    "import matplotlib.pyplot as plt\n",
    "\n",
    "df = pd.read_csv('https://raw.githubusercontent.com/msaricaumbc/DS_data/master/ds602/car_prices/car_prices.csv', low_memory=False)\n",
    "\n",
    "df.info()"
   ]
  },
  {
   "cell_type": "markdown",
   "id": "a57543d7",
   "metadata": {},
   "source": [
    "## Question 1. Determine the number of missing values in each column."
   ]
  },
  {
   "cell_type": "code",
   "execution_count": 2,
   "id": "500c7d66",
   "metadata": {},
   "outputs": [
    {
     "data": {
      "text/html": [
       "<div>\n",
       "<style scoped>\n",
       "    .dataframe tbody tr th:only-of-type {\n",
       "        vertical-align: middle;\n",
       "    }\n",
       "\n",
       "    .dataframe tbody tr th {\n",
       "        vertical-align: top;\n",
       "    }\n",
       "\n",
       "    .dataframe thead th {\n",
       "        text-align: right;\n",
       "    }\n",
       "</style>\n",
       "<table border=\"1\" class=\"dataframe\">\n",
       "  <thead>\n",
       "    <tr style=\"text-align: right;\">\n",
       "      <th></th>\n",
       "      <th>year</th>\n",
       "      <th>make</th>\n",
       "      <th>model</th>\n",
       "      <th>trim</th>\n",
       "      <th>body</th>\n",
       "      <th>transmission</th>\n",
       "      <th>vin</th>\n",
       "      <th>state</th>\n",
       "      <th>condition</th>\n",
       "      <th>odometer</th>\n",
       "      <th>color</th>\n",
       "      <th>interior</th>\n",
       "      <th>seller</th>\n",
       "      <th>mmr</th>\n",
       "      <th>sellingprice</th>\n",
       "      <th>saledate</th>\n",
       "    </tr>\n",
       "  </thead>\n",
       "  <tbody>\n",
       "    <tr>\n",
       "      <th>0</th>\n",
       "      <td>2015</td>\n",
       "      <td>Kia</td>\n",
       "      <td>Sorento</td>\n",
       "      <td>LX</td>\n",
       "      <td>SUV</td>\n",
       "      <td>automatic</td>\n",
       "      <td>5xyktca69fg566472</td>\n",
       "      <td>ca</td>\n",
       "      <td>5</td>\n",
       "      <td>16639.0</td>\n",
       "      <td>white</td>\n",
       "      <td>black</td>\n",
       "      <td>kia motors america, inc</td>\n",
       "      <td>20500</td>\n",
       "      <td>21500</td>\n",
       "      <td>Tue Dec 16 2014 12:30:00 GMT-0800 (PST)</td>\n",
       "    </tr>\n",
       "    <tr>\n",
       "      <th>1</th>\n",
       "      <td>2015</td>\n",
       "      <td>Kia</td>\n",
       "      <td>Sorento</td>\n",
       "      <td>LX</td>\n",
       "      <td>SUV</td>\n",
       "      <td>automatic</td>\n",
       "      <td>5xyktca69fg561319</td>\n",
       "      <td>ca</td>\n",
       "      <td>5</td>\n",
       "      <td>9393.0</td>\n",
       "      <td>white</td>\n",
       "      <td>beige</td>\n",
       "      <td>kia motors america, inc</td>\n",
       "      <td>20800</td>\n",
       "      <td>21500</td>\n",
       "      <td>Tue Dec 16 2014 12:30:00 GMT-0800 (PST)</td>\n",
       "    </tr>\n",
       "    <tr>\n",
       "      <th>2</th>\n",
       "      <td>2014</td>\n",
       "      <td>BMW</td>\n",
       "      <td>3 Series</td>\n",
       "      <td>328i SULEV</td>\n",
       "      <td>Sedan</td>\n",
       "      <td>automatic</td>\n",
       "      <td>wba3c1c51ek116351</td>\n",
       "      <td>ca</td>\n",
       "      <td>4.5</td>\n",
       "      <td>1331.0</td>\n",
       "      <td>gray</td>\n",
       "      <td>black</td>\n",
       "      <td>financial services remarketing (lease)</td>\n",
       "      <td>31900</td>\n",
       "      <td>30000</td>\n",
       "      <td>Thu Jan 15 2015 04:30:00 GMT-0800 (PST)</td>\n",
       "    </tr>\n",
       "    <tr>\n",
       "      <th>3</th>\n",
       "      <td>2015</td>\n",
       "      <td>Volvo</td>\n",
       "      <td>S60</td>\n",
       "      <td>T5</td>\n",
       "      <td>Sedan</td>\n",
       "      <td>automatic</td>\n",
       "      <td>yv1612tb4f1310987</td>\n",
       "      <td>ca</td>\n",
       "      <td>4.1</td>\n",
       "      <td>14282.0</td>\n",
       "      <td>white</td>\n",
       "      <td>black</td>\n",
       "      <td>volvo na rep/world omni</td>\n",
       "      <td>27500</td>\n",
       "      <td>27750</td>\n",
       "      <td>Thu Jan 29 2015 04:30:00 GMT-0800 (PST)</td>\n",
       "    </tr>\n",
       "    <tr>\n",
       "      <th>4</th>\n",
       "      <td>2014</td>\n",
       "      <td>BMW</td>\n",
       "      <td>6 Series Gran Coupe</td>\n",
       "      <td>650i</td>\n",
       "      <td>Sedan</td>\n",
       "      <td>automatic</td>\n",
       "      <td>wba6b2c57ed129731</td>\n",
       "      <td>ca</td>\n",
       "      <td>4.3</td>\n",
       "      <td>2641.0</td>\n",
       "      <td>gray</td>\n",
       "      <td>black</td>\n",
       "      <td>financial services remarketing (lease)</td>\n",
       "      <td>66000</td>\n",
       "      <td>67000</td>\n",
       "      <td>Thu Dec 18 2014 12:30:00 GMT-0800 (PST)</td>\n",
       "    </tr>\n",
       "  </tbody>\n",
       "</table>\n",
       "</div>"
      ],
      "text/plain": [
       "   year   make                model        trim   body transmission  \\\n",
       "0  2015    Kia              Sorento          LX    SUV    automatic   \n",
       "1  2015    Kia              Sorento          LX    SUV    automatic   \n",
       "2  2014    BMW             3 Series  328i SULEV  Sedan    automatic   \n",
       "3  2015  Volvo                  S60          T5  Sedan    automatic   \n",
       "4  2014    BMW  6 Series Gran Coupe        650i  Sedan    automatic   \n",
       "\n",
       "                 vin state condition  odometer  color interior  \\\n",
       "0  5xyktca69fg566472    ca         5   16639.0  white    black   \n",
       "1  5xyktca69fg561319    ca         5    9393.0  white    beige   \n",
       "2  wba3c1c51ek116351    ca       4.5    1331.0   gray    black   \n",
       "3  yv1612tb4f1310987    ca       4.1   14282.0  white    black   \n",
       "4  wba6b2c57ed129731    ca       4.3    2641.0   gray    black   \n",
       "\n",
       "                                   seller    mmr  sellingprice  \\\n",
       "0                 kia motors america, inc  20500         21500   \n",
       "1                 kia motors america, inc  20800         21500   \n",
       "2  financial services remarketing (lease)  31900         30000   \n",
       "3                 volvo na rep/world omni  27500         27750   \n",
       "4  financial services remarketing (lease)  66000         67000   \n",
       "\n",
       "                                  saledate  \n",
       "0  Tue Dec 16 2014 12:30:00 GMT-0800 (PST)  \n",
       "1  Tue Dec 16 2014 12:30:00 GMT-0800 (PST)  \n",
       "2  Thu Jan 15 2015 04:30:00 GMT-0800 (PST)  \n",
       "3  Thu Jan 29 2015 04:30:00 GMT-0800 (PST)  \n",
       "4  Thu Dec 18 2014 12:30:00 GMT-0800 (PST)  "
      ]
     },
     "execution_count": 2,
     "metadata": {},
     "output_type": "execute_result"
    }
   ],
   "source": [
    "df.head()"
   ]
  },
  {
   "cell_type": "code",
   "execution_count": 3,
   "id": "97bbd7c4",
   "metadata": {},
   "outputs": [
    {
     "data": {
      "text/plain": [
       "year                0\n",
       "make            10301\n",
       "model           10399\n",
       "trim            10651\n",
       "body            13195\n",
       "transmission    65353\n",
       "vin                 4\n",
       "state               0\n",
       "condition       11794\n",
       "odometer           94\n",
       "color             749\n",
       "interior          749\n",
       "seller              0\n",
       "mmr                 0\n",
       "sellingprice        0\n",
       "saledate            0\n",
       "dtype: int64"
      ]
     },
     "execution_count": 3,
     "metadata": {},
     "output_type": "execute_result"
    }
   ],
   "source": [
    "df.isna().sum()"
   ]
  },
  {
   "cell_type": "markdown",
   "id": "5be5885e",
   "metadata": {},
   "source": [
    "#### We can see that transmission has the highest number of null values. Values like state and year are never missing."
   ]
  },
  {
   "cell_type": "markdown",
   "id": "07fde286",
   "metadata": {},
   "source": [
    "## Question 2. Check the data types."
   ]
  },
  {
   "cell_type": "code",
   "execution_count": 4,
   "id": "b66612ff",
   "metadata": {},
   "outputs": [],
   "source": [
    "#condition should be a float type, not an object\n",
    "df['condition'] = pd.to_numeric(df['condition'], errors='coerce')"
   ]
  },
  {
   "cell_type": "code",
   "execution_count": 5,
   "id": "ef51aba0",
   "metadata": {},
   "outputs": [],
   "source": [
    "#mmr should be an integer type, not object\n",
    "df['mmr'] = pd.to_numeric(df['mmr'], errors='coerce', downcast='integer')"
   ]
  },
  {
   "cell_type": "code",
   "execution_count": 6,
   "id": "d71810a7",
   "metadata": {},
   "outputs": [],
   "source": [
    "#similarly, saledate should be changed to a datetime type\n",
    "df['saledate'] = pd.to_datetime(df['saledate'], errors='coerce', utc = True)"
   ]
  },
  {
   "cell_type": "code",
   "execution_count": 7,
   "id": "3941c8fd",
   "metadata": {},
   "outputs": [
    {
     "data": {
      "text/html": [
       "<div>\n",
       "<style scoped>\n",
       "    .dataframe tbody tr th:only-of-type {\n",
       "        vertical-align: middle;\n",
       "    }\n",
       "\n",
       "    .dataframe tbody tr th {\n",
       "        vertical-align: top;\n",
       "    }\n",
       "\n",
       "    .dataframe thead th {\n",
       "        text-align: right;\n",
       "    }\n",
       "</style>\n",
       "<table border=\"1\" class=\"dataframe\">\n",
       "  <thead>\n",
       "    <tr style=\"text-align: right;\">\n",
       "      <th></th>\n",
       "      <th>year</th>\n",
       "      <th>make</th>\n",
       "      <th>model</th>\n",
       "      <th>trim</th>\n",
       "      <th>body</th>\n",
       "      <th>transmission</th>\n",
       "      <th>vin</th>\n",
       "      <th>state</th>\n",
       "      <th>condition</th>\n",
       "      <th>odometer</th>\n",
       "      <th>color</th>\n",
       "      <th>interior</th>\n",
       "      <th>seller</th>\n",
       "      <th>mmr</th>\n",
       "      <th>sellingprice</th>\n",
       "      <th>saledate</th>\n",
       "    </tr>\n",
       "  </thead>\n",
       "  <tbody>\n",
       "    <tr>\n",
       "      <th>217724</th>\n",
       "      <td>2007</td>\n",
       "      <td>NaN</td>\n",
       "      <td>NaN</td>\n",
       "      <td>NaN</td>\n",
       "      <td>NaN</td>\n",
       "      <td>automatic</td>\n",
       "      <td>3gnda13dx7s634994</td>\n",
       "      <td>co</td>\n",
       "      <td>2.0</td>\n",
       "      <td>51193.0</td>\n",
       "      <td>burgundy</td>\n",
       "      <td>gray</td>\n",
       "      <td>gmac smartlane dealers</td>\n",
       "      <td>4400.0</td>\n",
       "      <td>6000</td>\n",
       "      <td>2015-02-10 19:45:00+00:00</td>\n",
       "    </tr>\n",
       "    <tr>\n",
       "      <th>316524</th>\n",
       "      <td>2006</td>\n",
       "      <td>Ford</td>\n",
       "      <td>F-150</td>\n",
       "      <td>FX4</td>\n",
       "      <td>SuperCab</td>\n",
       "      <td>NaN</td>\n",
       "      <td>1ftpx14586na03441</td>\n",
       "      <td>nc</td>\n",
       "      <td>1.9</td>\n",
       "      <td>113588.0</td>\n",
       "      <td>black</td>\n",
       "      <td>black</td>\n",
       "      <td>meridian remarketing</td>\n",
       "      <td>9425.0</td>\n",
       "      <td>9800</td>\n",
       "      <td>2015-02-22 17:30:00+00:00</td>\n",
       "    </tr>\n",
       "    <tr>\n",
       "      <th>542134</th>\n",
       "      <td>2003</td>\n",
       "      <td>Honda</td>\n",
       "      <td>Accord</td>\n",
       "      <td>LX</td>\n",
       "      <td>sedan</td>\n",
       "      <td>NaN</td>\n",
       "      <td>1hgcm56483a811859</td>\n",
       "      <td>on</td>\n",
       "      <td>1.9</td>\n",
       "      <td>184564.0</td>\n",
       "      <td>gray</td>\n",
       "      <td>black</td>\n",
       "      <td>mercedes-benz</td>\n",
       "      <td>2475.0</td>\n",
       "      <td>2900</td>\n",
       "      <td>2015-06-18 04:30:00+00:00</td>\n",
       "    </tr>\n",
       "  </tbody>\n",
       "</table>\n",
       "</div>"
      ],
      "text/plain": [
       "        year   make   model trim      body transmission                vin  \\\n",
       "217724  2007    NaN     NaN  NaN       NaN    automatic  3gnda13dx7s634994   \n",
       "316524  2006   Ford   F-150  FX4  SuperCab          NaN  1ftpx14586na03441   \n",
       "542134  2003  Honda  Accord   LX     sedan          NaN  1hgcm56483a811859   \n",
       "\n",
       "       state  condition  odometer     color interior                  seller  \\\n",
       "217724    co        2.0   51193.0  burgundy     gray  gmac smartlane dealers   \n",
       "316524    nc        1.9  113588.0     black    black    meridian remarketing   \n",
       "542134    on        1.9  184564.0      gray    black           mercedes-benz   \n",
       "\n",
       "           mmr  sellingprice                  saledate  \n",
       "217724  4400.0          6000 2015-02-10 19:45:00+00:00  \n",
       "316524  9425.0          9800 2015-02-22 17:30:00+00:00  \n",
       "542134  2475.0          2900 2015-06-18 04:30:00+00:00  "
      ]
     },
     "execution_count": 7,
     "metadata": {},
     "output_type": "execute_result"
    }
   ],
   "source": [
    "df.sample(3)"
   ]
  },
  {
   "cell_type": "code",
   "execution_count": 8,
   "id": "3db43217",
   "metadata": {},
   "outputs": [
    {
     "data": {
      "text/plain": [
       "year                0\n",
       "make            10301\n",
       "model           10399\n",
       "trim            10651\n",
       "body            13195\n",
       "transmission    65353\n",
       "vin                 4\n",
       "state               0\n",
       "condition       11820\n",
       "odometer           94\n",
       "color             749\n",
       "interior          749\n",
       "seller              0\n",
       "mmr                26\n",
       "sellingprice        0\n",
       "saledate           26\n",
       "dtype: int64"
      ]
     },
     "execution_count": 8,
     "metadata": {},
     "output_type": "execute_result"
    }
   ],
   "source": [
    "df.isna().sum()"
   ]
  },
  {
   "cell_type": "markdown",
   "id": "5f379029",
   "metadata": {},
   "source": [
    "#### It is important to note that while we converted all the possible rows to their correct data type, a few rows had values which could not be converted, and were hence erraneous data. These have been entered as null. Thus the number of null values increased by a bit\n"
   ]
  },
  {
   "cell_type": "code",
   "execution_count": 9,
   "id": "effd978d",
   "metadata": {},
   "outputs": [
    {
     "name": "stdout",
     "output_type": "stream",
     "text": [
      "<class 'pandas.core.frame.DataFrame'>\n",
      "RangeIndex: 558837 entries, 0 to 558836\n",
      "Data columns (total 16 columns):\n",
      " #   Column        Non-Null Count   Dtype              \n",
      "---  ------        --------------   -----              \n",
      " 0   year          558837 non-null  int64              \n",
      " 1   make          548536 non-null  object             \n",
      " 2   model         548438 non-null  object             \n",
      " 3   trim          548186 non-null  object             \n",
      " 4   body          545642 non-null  object             \n",
      " 5   transmission  493484 non-null  object             \n",
      " 6   vin           558833 non-null  object             \n",
      " 7   state         558837 non-null  object             \n",
      " 8   condition     547017 non-null  float64            \n",
      " 9   odometer      558743 non-null  float64            \n",
      " 10  color         558088 non-null  object             \n",
      " 11  interior      558088 non-null  object             \n",
      " 12  seller        558837 non-null  object             \n",
      " 13  mmr           558811 non-null  float64            \n",
      " 14  sellingprice  558837 non-null  int64              \n",
      " 15  saledate      558811 non-null  datetime64[ns, UTC]\n",
      "dtypes: datetime64[ns, UTC](1), float64(3), int64(2), object(10)\n",
      "memory usage: 68.2+ MB\n"
     ]
    }
   ],
   "source": [
    "df.info()"
   ]
  },
  {
   "cell_type": "markdown",
   "id": "ec76eaac",
   "metadata": {},
   "source": [
    "#### The data types of those 3 columns has been changed, as we can see"
   ]
  },
  {
   "cell_type": "markdown",
   "id": "dc27a41e",
   "metadata": {},
   "source": [
    "## Question 3. Analyze the make column."
   ]
  },
  {
   "cell_type": "code",
   "execution_count": 10,
   "id": "2e0a66d9",
   "metadata": {},
   "outputs": [
    {
     "data": {
      "text/plain": [
       "97"
      ]
     },
     "execution_count": 10,
     "metadata": {},
     "output_type": "execute_result"
    }
   ],
   "source": [
    "makes = df.make.unique().tolist()\n",
    "# makes = [str(x).lower() for x in makes\n",
    "len(makes)"
   ]
  },
  {
   "cell_type": "code",
   "execution_count": 11,
   "id": "e3de6cc9",
   "metadata": {},
   "outputs": [
    {
     "data": {
      "text/html": [
       "<div>\n",
       "<style scoped>\n",
       "    .dataframe tbody tr th:only-of-type {\n",
       "        vertical-align: middle;\n",
       "    }\n",
       "\n",
       "    .dataframe tbody tr th {\n",
       "        vertical-align: top;\n",
       "    }\n",
       "\n",
       "    .dataframe thead th {\n",
       "        text-align: right;\n",
       "    }\n",
       "</style>\n",
       "<table border=\"1\" class=\"dataframe\">\n",
       "  <thead>\n",
       "    <tr style=\"text-align: right;\">\n",
       "      <th></th>\n",
       "      <th>year</th>\n",
       "      <th>make</th>\n",
       "      <th>model</th>\n",
       "      <th>trim</th>\n",
       "      <th>body</th>\n",
       "      <th>transmission</th>\n",
       "      <th>vin</th>\n",
       "      <th>state</th>\n",
       "      <th>condition</th>\n",
       "      <th>odometer</th>\n",
       "      <th>color</th>\n",
       "      <th>interior</th>\n",
       "      <th>seller</th>\n",
       "      <th>mmr</th>\n",
       "      <th>sellingprice</th>\n",
       "      <th>saledate</th>\n",
       "    </tr>\n",
       "  </thead>\n",
       "  <tbody>\n",
       "    <tr>\n",
       "      <th>742</th>\n",
       "      <td>2012</td>\n",
       "      <td>NaN</td>\n",
       "      <td>NaN</td>\n",
       "      <td>NaN</td>\n",
       "      <td>NaN</td>\n",
       "      <td>automatic</td>\n",
       "      <td>wbakb8c51cc964387</td>\n",
       "      <td>ca</td>\n",
       "      <td>3.8</td>\n",
       "      <td>23208.0</td>\n",
       "      <td>gray</td>\n",
       "      <td>black</td>\n",
       "      <td>financial services remarketing (lease)</td>\n",
       "      <td>47200.0</td>\n",
       "      <td>46000</td>\n",
       "      <td>2015-02-25 20:30:00+00:00</td>\n",
       "    </tr>\n",
       "    <tr>\n",
       "      <th>747</th>\n",
       "      <td>2012</td>\n",
       "      <td>NaN</td>\n",
       "      <td>NaN</td>\n",
       "      <td>NaN</td>\n",
       "      <td>NaN</td>\n",
       "      <td>automatic</td>\n",
       "      <td>wbakb8c53cc964410</td>\n",
       "      <td>ca</td>\n",
       "      <td>3.3</td>\n",
       "      <td>19785.0</td>\n",
       "      <td>beige</td>\n",
       "      <td>gray</td>\n",
       "      <td>financial services remarketing (lease)</td>\n",
       "      <td>49500.0</td>\n",
       "      <td>46000</td>\n",
       "      <td>2015-02-11 20:30:00+00:00</td>\n",
       "    </tr>\n",
       "    <tr>\n",
       "      <th>766</th>\n",
       "      <td>2012</td>\n",
       "      <td>NaN</td>\n",
       "      <td>NaN</td>\n",
       "      <td>NaN</td>\n",
       "      <td>NaN</td>\n",
       "      <td>automatic</td>\n",
       "      <td>wbakb8c54cc964089</td>\n",
       "      <td>ca</td>\n",
       "      <td>3.7</td>\n",
       "      <td>48424.0</td>\n",
       "      <td>black</td>\n",
       "      <td>black</td>\n",
       "      <td>financial services remarketing (lease)</td>\n",
       "      <td>42300.0</td>\n",
       "      <td>43000</td>\n",
       "      <td>2015-01-14 20:30:00+00:00</td>\n",
       "    </tr>\n",
       "    <tr>\n",
       "      <th>798</th>\n",
       "      <td>2012</td>\n",
       "      <td>NaN</td>\n",
       "      <td>NaN</td>\n",
       "      <td>NaN</td>\n",
       "      <td>NaN</td>\n",
       "      <td>automatic</td>\n",
       "      <td>wbakb8c59cc448049</td>\n",
       "      <td>ca</td>\n",
       "      <td>4.8</td>\n",
       "      <td>39825.0</td>\n",
       "      <td>—</td>\n",
       "      <td>gray</td>\n",
       "      <td>financial services remarketing (lease)</td>\n",
       "      <td>58100.0</td>\n",
       "      <td>58500</td>\n",
       "      <td>2015-01-14 20:30:00+00:00</td>\n",
       "    </tr>\n",
       "    <tr>\n",
       "      <th>803</th>\n",
       "      <td>2012</td>\n",
       "      <td>NaN</td>\n",
       "      <td>NaN</td>\n",
       "      <td>NaN</td>\n",
       "      <td>NaN</td>\n",
       "      <td>automatic</td>\n",
       "      <td>wbakb8c58cc962863</td>\n",
       "      <td>ca</td>\n",
       "      <td>4.9</td>\n",
       "      <td>35093.0</td>\n",
       "      <td>blue</td>\n",
       "      <td>tan</td>\n",
       "      <td>financial services remarketing (lease)</td>\n",
       "      <td>45200.0</td>\n",
       "      <td>44500</td>\n",
       "      <td>2015-01-28 20:30:00+00:00</td>\n",
       "    </tr>\n",
       "    <tr>\n",
       "      <th>...</th>\n",
       "      <td>...</td>\n",
       "      <td>...</td>\n",
       "      <td>...</td>\n",
       "      <td>...</td>\n",
       "      <td>...</td>\n",
       "      <td>...</td>\n",
       "      <td>...</td>\n",
       "      <td>...</td>\n",
       "      <td>...</td>\n",
       "      <td>...</td>\n",
       "      <td>...</td>\n",
       "      <td>...</td>\n",
       "      <td>...</td>\n",
       "      <td>...</td>\n",
       "      <td>...</td>\n",
       "      <td>...</td>\n",
       "    </tr>\n",
       "    <tr>\n",
       "      <th>558545</th>\n",
       "      <td>2000</td>\n",
       "      <td>NaN</td>\n",
       "      <td>NaN</td>\n",
       "      <td>NaN</td>\n",
       "      <td>NaN</td>\n",
       "      <td>automatic</td>\n",
       "      <td>4n2xn11txyd844711</td>\n",
       "      <td>ma</td>\n",
       "      <td>3.1</td>\n",
       "      <td>108900.0</td>\n",
       "      <td>green</td>\n",
       "      <td>gray</td>\n",
       "      <td>boch toyota/scion south</td>\n",
       "      <td>1275.0</td>\n",
       "      <td>1100</td>\n",
       "      <td>2015-06-18 04:30:00+00:00</td>\n",
       "    </tr>\n",
       "    <tr>\n",
       "      <th>558617</th>\n",
       "      <td>2007</td>\n",
       "      <td>NaN</td>\n",
       "      <td>NaN</td>\n",
       "      <td>NaN</td>\n",
       "      <td>NaN</td>\n",
       "      <td>automatic</td>\n",
       "      <td>jtjbt20x770129305</td>\n",
       "      <td>pa</td>\n",
       "      <td>4.1</td>\n",
       "      <td>66393.0</td>\n",
       "      <td>—</td>\n",
       "      <td>beige</td>\n",
       "      <td>r hollenshead auto sales inc</td>\n",
       "      <td>18150.0</td>\n",
       "      <td>18500</td>\n",
       "      <td>2015-06-18 19:00:00+00:00</td>\n",
       "    </tr>\n",
       "    <tr>\n",
       "      <th>558736</th>\n",
       "      <td>2011</td>\n",
       "      <td>NaN</td>\n",
       "      <td>NaN</td>\n",
       "      <td>NaN</td>\n",
       "      <td>NaN</td>\n",
       "      <td>automatic</td>\n",
       "      <td>4a4jn2as6be029938</td>\n",
       "      <td>nv</td>\n",
       "      <td>4.1</td>\n",
       "      <td>67820.0</td>\n",
       "      <td>silver</td>\n",
       "      <td>black</td>\n",
       "      <td>imperial rides</td>\n",
       "      <td>9175.0</td>\n",
       "      <td>10500</td>\n",
       "      <td>2015-06-18 22:00:00+00:00</td>\n",
       "    </tr>\n",
       "    <tr>\n",
       "      <th>558773</th>\n",
       "      <td>2005</td>\n",
       "      <td>NaN</td>\n",
       "      <td>NaN</td>\n",
       "      <td>NaN</td>\n",
       "      <td>NaN</td>\n",
       "      <td>automatic</td>\n",
       "      <td>1g1yy24u355116011</td>\n",
       "      <td>tx</td>\n",
       "      <td>2.4</td>\n",
       "      <td>114787.0</td>\n",
       "      <td>burgundy</td>\n",
       "      <td>black</td>\n",
       "      <td>hopper motorplex inc</td>\n",
       "      <td>15400.0</td>\n",
       "      <td>14800</td>\n",
       "      <td>2015-06-23 20:15:00+00:00</td>\n",
       "    </tr>\n",
       "    <tr>\n",
       "      <th>558776</th>\n",
       "      <td>2013</td>\n",
       "      <td>NaN</td>\n",
       "      <td>NaN</td>\n",
       "      <td>NaN</td>\n",
       "      <td>NaN</td>\n",
       "      <td>automatic</td>\n",
       "      <td>zam39nka2d0068288</td>\n",
       "      <td>ga</td>\n",
       "      <td>4.2</td>\n",
       "      <td>30148.0</td>\n",
       "      <td>off-white</td>\n",
       "      <td>black</td>\n",
       "      <td>maserati north america inc</td>\n",
       "      <td>58500.0</td>\n",
       "      <td>47000</td>\n",
       "      <td>2015-06-23 20:00:00+00:00</td>\n",
       "    </tr>\n",
       "  </tbody>\n",
       "</table>\n",
       "<p>10301 rows × 16 columns</p>\n",
       "</div>"
      ],
      "text/plain": [
       "        year make model trim body transmission                vin state  \\\n",
       "742     2012  NaN   NaN  NaN  NaN    automatic  wbakb8c51cc964387    ca   \n",
       "747     2012  NaN   NaN  NaN  NaN    automatic  wbakb8c53cc964410    ca   \n",
       "766     2012  NaN   NaN  NaN  NaN    automatic  wbakb8c54cc964089    ca   \n",
       "798     2012  NaN   NaN  NaN  NaN    automatic  wbakb8c59cc448049    ca   \n",
       "803     2012  NaN   NaN  NaN  NaN    automatic  wbakb8c58cc962863    ca   \n",
       "...      ...  ...   ...  ...  ...          ...                ...   ...   \n",
       "558545  2000  NaN   NaN  NaN  NaN    automatic  4n2xn11txyd844711    ma   \n",
       "558617  2007  NaN   NaN  NaN  NaN    automatic  jtjbt20x770129305    pa   \n",
       "558736  2011  NaN   NaN  NaN  NaN    automatic  4a4jn2as6be029938    nv   \n",
       "558773  2005  NaN   NaN  NaN  NaN    automatic  1g1yy24u355116011    tx   \n",
       "558776  2013  NaN   NaN  NaN  NaN    automatic  zam39nka2d0068288    ga   \n",
       "\n",
       "        condition  odometer      color interior  \\\n",
       "742           3.8   23208.0       gray    black   \n",
       "747           3.3   19785.0      beige     gray   \n",
       "766           3.7   48424.0      black    black   \n",
       "798           4.8   39825.0          —     gray   \n",
       "803           4.9   35093.0       blue      tan   \n",
       "...           ...       ...        ...      ...   \n",
       "558545        3.1  108900.0      green     gray   \n",
       "558617        4.1   66393.0          —    beige   \n",
       "558736        4.1   67820.0     silver    black   \n",
       "558773        2.4  114787.0   burgundy    black   \n",
       "558776        4.2   30148.0  off-white    black   \n",
       "\n",
       "                                        seller      mmr  sellingprice  \\\n",
       "742     financial services remarketing (lease)  47200.0         46000   \n",
       "747     financial services remarketing (lease)  49500.0         46000   \n",
       "766     financial services remarketing (lease)  42300.0         43000   \n",
       "798     financial services remarketing (lease)  58100.0         58500   \n",
       "803     financial services remarketing (lease)  45200.0         44500   \n",
       "...                                        ...      ...           ...   \n",
       "558545                 boch toyota/scion south   1275.0          1100   \n",
       "558617            r hollenshead auto sales inc  18150.0         18500   \n",
       "558736                          imperial rides   9175.0         10500   \n",
       "558773                    hopper motorplex inc  15400.0         14800   \n",
       "558776              maserati north america inc  58500.0         47000   \n",
       "\n",
       "                        saledate  \n",
       "742    2015-02-25 20:30:00+00:00  \n",
       "747    2015-02-11 20:30:00+00:00  \n",
       "766    2015-01-14 20:30:00+00:00  \n",
       "798    2015-01-14 20:30:00+00:00  \n",
       "803    2015-01-28 20:30:00+00:00  \n",
       "...                          ...  \n",
       "558545 2015-06-18 04:30:00+00:00  \n",
       "558617 2015-06-18 19:00:00+00:00  \n",
       "558736 2015-06-18 22:00:00+00:00  \n",
       "558773 2015-06-23 20:15:00+00:00  \n",
       "558776 2015-06-23 20:00:00+00:00  \n",
       "\n",
       "[10301 rows x 16 columns]"
      ]
     },
     "execution_count": 11,
     "metadata": {},
     "output_type": "execute_result"
    }
   ],
   "source": [
    "df[df['make'].isna()]"
   ]
  },
  {
   "cell_type": "markdown",
   "id": "277b6a37",
   "metadata": {},
   "source": [
    "#### The above shows all those where make is null. All those rows have no important info and thus we can drop them"
   ]
  },
  {
   "cell_type": "code",
   "execution_count": 12,
   "id": "a5b9d70e",
   "metadata": {},
   "outputs": [],
   "source": [
    "df = df.dropna(subset=['make']) #drop all rows without a make"
   ]
  },
  {
   "cell_type": "code",
   "execution_count": 13,
   "id": "07e8f1ce",
   "metadata": {},
   "outputs": [
    {
     "data": {
      "text/plain": [
       "year                0\n",
       "make                0\n",
       "model              98\n",
       "trim              350\n",
       "body             2894\n",
       "transmission    63592\n",
       "vin                 4\n",
       "state               0\n",
       "condition       11733\n",
       "odometer           90\n",
       "color             734\n",
       "interior          734\n",
       "seller              0\n",
       "mmr                26\n",
       "sellingprice        0\n",
       "saledate           26\n",
       "dtype: int64"
      ]
     },
     "execution_count": 13,
     "metadata": {},
     "output_type": "execute_result"
    }
   ],
   "source": [
    "df.isna().sum()"
   ]
  },
  {
   "cell_type": "code",
   "execution_count": 14,
   "id": "cd51f734",
   "metadata": {},
   "outputs": [
    {
     "data": {
      "text/html": [
       "<div>\n",
       "<style scoped>\n",
       "    .dataframe tbody tr th:only-of-type {\n",
       "        vertical-align: middle;\n",
       "    }\n",
       "\n",
       "    .dataframe tbody tr th {\n",
       "        vertical-align: top;\n",
       "    }\n",
       "\n",
       "    .dataframe thead th {\n",
       "        text-align: right;\n",
       "    }\n",
       "</style>\n",
       "<table border=\"1\" class=\"dataframe\">\n",
       "  <thead>\n",
       "    <tr style=\"text-align: right;\">\n",
       "      <th></th>\n",
       "      <th>year</th>\n",
       "      <th>make</th>\n",
       "      <th>model</th>\n",
       "      <th>trim</th>\n",
       "      <th>body</th>\n",
       "      <th>transmission</th>\n",
       "      <th>vin</th>\n",
       "      <th>state</th>\n",
       "      <th>condition</th>\n",
       "      <th>odometer</th>\n",
       "      <th>color</th>\n",
       "      <th>interior</th>\n",
       "      <th>seller</th>\n",
       "      <th>mmr</th>\n",
       "      <th>sellingprice</th>\n",
       "      <th>saledate</th>\n",
       "    </tr>\n",
       "  </thead>\n",
       "  <tbody>\n",
       "    <tr>\n",
       "      <th>357766</th>\n",
       "      <td>2013</td>\n",
       "      <td>Ford</td>\n",
       "      <td>Mustang</td>\n",
       "      <td>GT Premium</td>\n",
       "      <td>Coupe</td>\n",
       "      <td>manual</td>\n",
       "      <td>1zvbp8cf0d5252887</td>\n",
       "      <td>ca</td>\n",
       "      <td>4.4</td>\n",
       "      <td>724.0</td>\n",
       "      <td>black</td>\n",
       "      <td>black</td>\n",
       "      <td>ford motor credit company,llc</td>\n",
       "      <td>26700.0</td>\n",
       "      <td>43700</td>\n",
       "      <td>2015-03-04 20:30:00+00:00</td>\n",
       "    </tr>\n",
       "  </tbody>\n",
       "</table>\n",
       "</div>"
      ],
      "text/plain": [
       "        year  make    model        trim   body transmission  \\\n",
       "357766  2013  Ford  Mustang  GT Premium  Coupe       manual   \n",
       "\n",
       "                      vin state  condition  odometer  color interior  \\\n",
       "357766  1zvbp8cf0d5252887    ca        4.4     724.0  black    black   \n",
       "\n",
       "                               seller      mmr  sellingprice  \\\n",
       "357766  ford motor credit company,llc  26700.0         43700   \n",
       "\n",
       "                        saledate  \n",
       "357766 2015-03-04 20:30:00+00:00  "
      ]
     },
     "execution_count": 14,
     "metadata": {},
     "output_type": "execute_result"
    }
   ],
   "source": [
    "df.sample()"
   ]
  },
  {
   "cell_type": "code",
   "execution_count": 15,
   "id": "aae20a56",
   "metadata": {},
   "outputs": [],
   "source": [
    "#first, we can remove all the duplicates that are arising because of different capitalising. Start by converting to lower\n",
    "df['make'] = df['make'].str.lower()"
   ]
  },
  {
   "cell_type": "code",
   "execution_count": 16,
   "id": "82d174d0",
   "metadata": {},
   "outputs": [],
   "source": [
    "import re"
   ]
  },
  {
   "cell_type": "code",
   "execution_count": 17,
   "id": "6cf72e73",
   "metadata": {},
   "outputs": [
    {
     "data": {
      "text/plain": [
       "66"
      ]
     },
     "execution_count": 17,
     "metadata": {},
     "output_type": "execute_result"
    }
   ],
   "source": [
    "makes = df.make.unique().tolist()\n",
    "# makes = [str(x).lower() for x in makes]\n",
    "len(makes)"
   ]
  },
  {
   "cell_type": "code",
   "execution_count": 18,
   "id": "a563ea5f",
   "metadata": {},
   "outputs": [
    {
     "data": {
      "text/plain": [
       "['acura',\n",
       " 'airstream',\n",
       " 'aston martin',\n",
       " 'audi',\n",
       " 'bentley',\n",
       " 'bmw',\n",
       " 'buick',\n",
       " 'cadillac',\n",
       " 'chev truck',\n",
       " 'chevrolet',\n",
       " 'chrysler',\n",
       " 'daewoo',\n",
       " 'dodge',\n",
       " 'dodge tk',\n",
       " 'dot',\n",
       " 'ferrari',\n",
       " 'fiat',\n",
       " 'fisker',\n",
       " 'ford',\n",
       " 'ford tk',\n",
       " 'ford truck',\n",
       " 'geo',\n",
       " 'gmc',\n",
       " 'gmc truck',\n",
       " 'honda',\n",
       " 'hummer',\n",
       " 'hyundai',\n",
       " 'hyundai tk',\n",
       " 'infiniti',\n",
       " 'isuzu',\n",
       " 'jaguar',\n",
       " 'jeep',\n",
       " 'kia',\n",
       " 'lamborghini',\n",
       " 'land rover',\n",
       " 'landrover',\n",
       " 'lexus',\n",
       " 'lincoln',\n",
       " 'lotus',\n",
       " 'maserati',\n",
       " 'mazda',\n",
       " 'mazda tk',\n",
       " 'mercedes',\n",
       " 'mercedes-b',\n",
       " 'mercedes-benz',\n",
       " 'mercury',\n",
       " 'mini',\n",
       " 'mitsubishi',\n",
       " 'nissan',\n",
       " 'oldsmobile',\n",
       " 'plymouth',\n",
       " 'pontiac',\n",
       " 'porsche',\n",
       " 'ram',\n",
       " 'rolls-royce',\n",
       " 'saab',\n",
       " 'saturn',\n",
       " 'scion',\n",
       " 'smart',\n",
       " 'subaru',\n",
       " 'suzuki',\n",
       " 'tesla',\n",
       " 'toyota',\n",
       " 'volkswagen',\n",
       " 'volvo',\n",
       " 'vw']"
      ]
     },
     "execution_count": 18,
     "metadata": {},
     "output_type": "execute_result"
    }
   ],
   "source": [
    "sorted(makes)"
   ]
  },
  {
   "cell_type": "markdown",
   "id": "99c201b1",
   "metadata": {},
   "source": [
    "#### Replacing ' tk' and 'truck' with an empty string, vw with volswagen, joining all instances of mercedes, and land rover with landrover, chev with chevrolet"
   ]
  },
  {
   "cell_type": "code",
   "execution_count": 19,
   "id": "54a566e5",
   "metadata": {},
   "outputs": [
    {
     "name": "stderr",
     "output_type": "stream",
     "text": [
      "C:\\Users\\Tarun\\AppData\\Local\\Temp\\ipykernel_25284\\3977000570.py:1: FutureWarning: The default value of regex will change from True to False in a future version.\n",
      "  df['make'] = df['make'].str.replace(r'( tk|truck)', '')\n"
     ]
    }
   ],
   "source": [
    "df['make'] = df['make'].str.replace(r'( tk|truck)', '')\n",
    "df['make'] = df['make'].apply(lambda x: re.sub(r'vw', 'volkswagen', x))\n",
    "df['make'] = df['make'].apply(lambda x: re.sub(r'chev ', 'chevrolet', x)) #with the space, so that the \n",
    "                                                                        #chev in chevrolet doesnt replace\n",
    "df['make'] = df['make'].apply(lambda x: re.sub(r'-b.*', '', x))   #all mercedes instances\n",
    "df['make'] = df['make'].apply(lambda x: re.sub(r' ', '', x))     #replace spaces with blanks"
   ]
  },
  {
   "cell_type": "code",
   "execution_count": 20,
   "id": "c7ccc3ae",
   "metadata": {},
   "outputs": [
    {
     "data": {
      "text/plain": [
       "['acura',\n",
       " 'airstream',\n",
       " 'astonmartin',\n",
       " 'audi',\n",
       " 'bentley',\n",
       " 'bmw',\n",
       " 'buick',\n",
       " 'cadillac',\n",
       " 'chevrolet',\n",
       " 'chrysler',\n",
       " 'daewoo',\n",
       " 'dodge',\n",
       " 'dot',\n",
       " 'ferrari',\n",
       " 'fiat',\n",
       " 'fisker',\n",
       " 'ford',\n",
       " 'geo',\n",
       " 'gmc',\n",
       " 'honda',\n",
       " 'hummer',\n",
       " 'hyundai',\n",
       " 'infiniti',\n",
       " 'isuzu',\n",
       " 'jaguar',\n",
       " 'jeep',\n",
       " 'kia',\n",
       " 'lamborghini',\n",
       " 'landrover',\n",
       " 'lexus',\n",
       " 'lincoln',\n",
       " 'lotus',\n",
       " 'maserati',\n",
       " 'mazda',\n",
       " 'mercedes',\n",
       " 'mercury',\n",
       " 'mini',\n",
       " 'mitsubishi',\n",
       " 'nissan',\n",
       " 'oldsmobile',\n",
       " 'plymouth',\n",
       " 'pontiac',\n",
       " 'porsche',\n",
       " 'ram',\n",
       " 'rolls-royce',\n",
       " 'saab',\n",
       " 'saturn',\n",
       " 'scion',\n",
       " 'smart',\n",
       " 'subaru',\n",
       " 'suzuki',\n",
       " 'tesla',\n",
       " 'toyota',\n",
       " 'volkswagen',\n",
       " 'volvo']"
      ]
     },
     "execution_count": 20,
     "metadata": {},
     "output_type": "execute_result"
    }
   ],
   "source": [
    "makes = df.make.unique().tolist()\n",
    "sorted(makes)"
   ]
  },
  {
   "cell_type": "code",
   "execution_count": 21,
   "id": "f90dca08",
   "metadata": {},
   "outputs": [
    {
     "data": {
      "text/plain": [
       "55"
      ]
     },
     "execution_count": 21,
     "metadata": {},
     "output_type": "execute_result"
    }
   ],
   "source": [
    "len(makes)"
   ]
  },
  {
   "cell_type": "markdown",
   "id": "543523f5",
   "metadata": {},
   "source": [
    "#### Without using too many individual replaces, this is the lowest we can come to"
   ]
  },
  {
   "cell_type": "markdown",
   "id": "5409b6ba",
   "metadata": {},
   "source": [
    "#### First, we make all the letters small. This solves issues of differences like 'Pontiac' vs 'pontiac'. Next, we unify all the makes which have tk and truck after that. Then we change vw to volswagen, as this is a one off case and has no pattern. Once truck is removed from chev, we merge this with chevrolet. It is important to keep the space in 'chev ' or else it will replace the 'chev' in chervrolet also. Once this is done, we can cut all spaces. This also resolves the differences between land rover and landrover. Then , there is specific regex for mercedes to remove '-b' and '-benz'."
   ]
  },
  {
   "cell_type": "markdown",
   "id": "84729115",
   "metadata": {},
   "source": [
    "## Question 4. Analyze the relationship between the wholeprice mmr and the salesprice."
   ]
  },
  {
   "cell_type": "markdown",
   "id": "6fa09f2b",
   "metadata": {},
   "source": [
    "### What is the overall correlation?"
   ]
  },
  {
   "cell_type": "code",
   "execution_count": 22,
   "id": "4b2123c6",
   "metadata": {},
   "outputs": [
    {
     "name": "stdout",
     "output_type": "stream",
     "text": [
      "0.9835981325410766\n"
     ]
    }
   ],
   "source": [
    "print(df['mmr'].corr(df['sellingprice']))"
   ]
  },
  {
   "cell_type": "code",
   "execution_count": 23,
   "id": "35b67685",
   "metadata": {},
   "outputs": [
    {
     "data": {
      "text/plain": [
       "count    548536.000000\n",
       "mean      13698.503570\n",
       "std        9728.202129\n",
       "min           1.000000\n",
       "25%        7000.000000\n",
       "50%       12200.000000\n",
       "75%       18300.000000\n",
       "max      230000.000000\n",
       "Name: sellingprice, dtype: float64"
      ]
     },
     "execution_count": 23,
     "metadata": {},
     "output_type": "execute_result"
    }
   ],
   "source": [
    "df[\"sellingprice\"].describe()"
   ]
  },
  {
   "cell_type": "code",
   "execution_count": 24,
   "id": "21d2da00",
   "metadata": {},
   "outputs": [
    {
     "name": "stdout",
     "output_type": "stream",
     "text": [
      "For range 0 to 10000 Correlation is 0.8697804377225687\n",
      "For range 0 to 20000 Correlation is 0.9575118970696909\n",
      "For range 0 to 30000 Correlation is 0.9741855743673665\n",
      "For range 0 to 40000 Correlation is 0.9790395072212825\n",
      "For range 0 to 50000 Correlation is 0.9811651011054551\n",
      "For range 0 to 60000 Correlation is 0.9821893723727105\n",
      "For range 0 to 70000 Correlation is 0.9826408860838695\n",
      "For range 0 to 80000 Correlation is 0.9831126014977609\n",
      "For range 0 to 90000 Correlation is 0.9833676274051306\n",
      "For range 0 to 100000 Correlation is 0.9835362118738643\n",
      "For range 0 to 110000 Correlation is 0.983542142428449\n",
      "For range 0 to 120000 Correlation is 0.9836269317882413\n",
      "For range 0 to 130000 Correlation is 0.9837088059046218\n",
      "For range 0 to 140000 Correlation is 0.9837772024012817\n",
      "For range 0 to 150000 Correlation is 0.9838519332548993\n",
      "For range 0 to 160000 Correlation is 0.9839234263172804\n",
      "For range 0 to 170000 Correlation is 0.9839808119371984\n",
      "For range 0 to 180000 Correlation is 0.9839960400866303\n",
      "For range 0 to 190000 Correlation is 0.9840048858195731\n",
      "For range 0 to 200000 Correlation is 0.9840048858195731\n",
      "For range 0 to 210000 Correlation is 0.9840048858195731\n",
      "For range 0 to 220000 Correlation is 0.9840048858195731\n",
      "For range 0 to 230000 Correlation is 0.9840048858195731\n"
     ]
    }
   ],
   "source": [
    "df_filter = df[[\"mmr\", \"sellingprice\"]]\n",
    "i = 10000\n",
    "corrs = []\n",
    "limit = []\n",
    "while i!= df[\"sellingprice\"].max()+10000:\n",
    "    df_bucket = df_filter[df_filter['sellingprice'] <i] #creating a new dataframe for each bucket\n",
    "    print(\"For range 0 to\", i, \"Correlation is\", df_bucket['mmr'].corr(df_bucket['sellingprice']))\n",
    "    corrs.append(df_bucket['mmr'].corr(df_bucket['sellingprice']))\n",
    "    limit.append(i)\n",
    "    i = i+10000"
   ]
  },
  {
   "cell_type": "code",
   "execution_count": 25,
   "id": "d9709c15",
   "metadata": {},
   "outputs": [
    {
     "data": {
      "image/png": "[encoded data removed]",
      "text/plain": [
       "<Figure size 640x480 with 1 Axes>"
      ]
     },
     "metadata": {},
     "output_type": "display_data"
    }
   ],
   "source": [
    "plt.plot(limit, corrs)\n",
    "plt.xlabel(\"Selling Price Range\")\n",
    "plt.ylabel(\"Correlation\")\n",
    "# plt.ylim(0, 1)\n",
    "plt.title(\"Correlation vs range of Selling Price\")\n",
    "plt.show()"
   ]
  },
  {
   "cell_type": "code",
   "execution_count": 26,
   "id": "85d8fd8f",
   "metadata": {},
   "outputs": [
    {
     "data": {
      "image/png": "[encoded data removed]",
      "text/plain": [
       "<Figure size 640x480 with 1 Axes>"
      ]
     },
     "metadata": {},
     "output_type": "display_data"
    }
   ],
   "source": [
    "df.plot.scatter(x='sellingprice',y='mmr',c='DarkBlue')\n",
    "plt.title(\"Selling Price vs MMR\")\n",
    "plt.xlabel(\"Selling Price\")\n",
    "plt.ylabel(\"MMR\")\n",
    "a = np.linspace(0,240000,100) \n",
    "plt.plot(a, a,c='Red') #straight line\n",
    "plt.title(\"Selling Price vs Estimated Selling Price\")\n",
    "plt.show()"
   ]
  },
  {
   "cell_type": "markdown",
   "id": "ca5bb521",
   "metadata": {},
   "source": [
    "#### Above graph shows the relation between mmr, which is the estimated price, to the actual selling price. When we draw a straight line through it, we see that apart from a few outliers, the predictions are quite decent. "
   ]
  },
  {
   "cell_type": "markdown",
   "id": "676006f3",
   "metadata": {},
   "source": [
    "#### Also, when we look at correlation graph, we see the correlation gets higher as we increaes the range. This tells us that as we get more data, the predictions get better"
   ]
  },
  {
   "cell_type": "markdown",
   "id": "38ea336d",
   "metadata": {},
   "source": [
    "## Question 5. How does the distribution of salesprice vary by make for cars made between 2010-2015?"
   ]
  },
  {
   "cell_type": "code",
   "execution_count": 27,
   "id": "8a2c1ac9",
   "metadata": {},
   "outputs": [],
   "source": [
    "df_year = df[(df[\"year\"] >=2010) & (df[\"year\"] <= 2015)]"
   ]
  },
  {
   "cell_type": "code",
   "execution_count": 28,
   "id": "48fc1277",
   "metadata": {},
   "outputs": [
    {
     "data": {
      "text/plain": [
       "['ford',\n",
       " 'nissan',\n",
       " 'chevrolet',\n",
       " 'toyota',\n",
       " 'dodge',\n",
       " 'hyundai',\n",
       " 'honda',\n",
       " 'kia',\n",
       " 'infiniti',\n",
       " 'bmw']"
      ]
     },
     "execution_count": 28,
     "metadata": {},
     "output_type": "execute_result"
    }
   ],
   "source": [
    "top_makes = df_year[\"make\"].value_counts().head(10).index.to_list()\n",
    "top_makes"
   ]
  },
  {
   "cell_type": "code",
   "execution_count": 29,
   "id": "8cf05db3",
   "metadata": {},
   "outputs": [],
   "source": [
    "df_final = df_year[df_year['make'].isin(top_makes)]"
   ]
  },
  {
   "cell_type": "code",
   "execution_count": 30,
   "id": "89b02034",
   "metadata": {},
   "outputs": [
    {
     "data": {
      "text/html": [
       "<div>\n",
       "<style scoped>\n",
       "    .dataframe tbody tr th:only-of-type {\n",
       "        vertical-align: middle;\n",
       "    }\n",
       "\n",
       "    .dataframe tbody tr th {\n",
       "        vertical-align: top;\n",
       "    }\n",
       "\n",
       "    .dataframe thead th {\n",
       "        text-align: right;\n",
       "    }\n",
       "</style>\n",
       "<table border=\"1\" class=\"dataframe\">\n",
       "  <thead>\n",
       "    <tr style=\"text-align: right;\">\n",
       "      <th></th>\n",
       "      <th>year</th>\n",
       "      <th>make</th>\n",
       "      <th>model</th>\n",
       "      <th>trim</th>\n",
       "      <th>body</th>\n",
       "      <th>transmission</th>\n",
       "      <th>vin</th>\n",
       "      <th>state</th>\n",
       "      <th>condition</th>\n",
       "      <th>odometer</th>\n",
       "      <th>color</th>\n",
       "      <th>interior</th>\n",
       "      <th>seller</th>\n",
       "      <th>mmr</th>\n",
       "      <th>sellingprice</th>\n",
       "      <th>saledate</th>\n",
       "    </tr>\n",
       "  </thead>\n",
       "  <tbody>\n",
       "    <tr>\n",
       "      <th>0</th>\n",
       "      <td>2015</td>\n",
       "      <td>kia</td>\n",
       "      <td>Sorento</td>\n",
       "      <td>LX</td>\n",
       "      <td>SUV</td>\n",
       "      <td>automatic</td>\n",
       "      <td>5xyktca69fg566472</td>\n",
       "      <td>ca</td>\n",
       "      <td>5.0</td>\n",
       "      <td>16639.0</td>\n",
       "      <td>white</td>\n",
       "      <td>black</td>\n",
       "      <td>kia motors america, inc</td>\n",
       "      <td>20500.0</td>\n",
       "      <td>21500</td>\n",
       "      <td>2014-12-16 04:30:00+00:00</td>\n",
       "    </tr>\n",
       "    <tr>\n",
       "      <th>1</th>\n",
       "      <td>2015</td>\n",
       "      <td>kia</td>\n",
       "      <td>Sorento</td>\n",
       "      <td>LX</td>\n",
       "      <td>SUV</td>\n",
       "      <td>automatic</td>\n",
       "      <td>5xyktca69fg561319</td>\n",
       "      <td>ca</td>\n",
       "      <td>5.0</td>\n",
       "      <td>9393.0</td>\n",
       "      <td>white</td>\n",
       "      <td>beige</td>\n",
       "      <td>kia motors america, inc</td>\n",
       "      <td>20800.0</td>\n",
       "      <td>21500</td>\n",
       "      <td>2014-12-16 04:30:00+00:00</td>\n",
       "    </tr>\n",
       "    <tr>\n",
       "      <th>2</th>\n",
       "      <td>2014</td>\n",
       "      <td>bmw</td>\n",
       "      <td>3 Series</td>\n",
       "      <td>328i SULEV</td>\n",
       "      <td>Sedan</td>\n",
       "      <td>automatic</td>\n",
       "      <td>wba3c1c51ek116351</td>\n",
       "      <td>ca</td>\n",
       "      <td>4.5</td>\n",
       "      <td>1331.0</td>\n",
       "      <td>gray</td>\n",
       "      <td>black</td>\n",
       "      <td>financial services remarketing (lease)</td>\n",
       "      <td>31900.0</td>\n",
       "      <td>30000</td>\n",
       "      <td>2015-01-14 20:30:00+00:00</td>\n",
       "    </tr>\n",
       "    <tr>\n",
       "      <th>4</th>\n",
       "      <td>2014</td>\n",
       "      <td>bmw</td>\n",
       "      <td>6 Series Gran Coupe</td>\n",
       "      <td>650i</td>\n",
       "      <td>Sedan</td>\n",
       "      <td>automatic</td>\n",
       "      <td>wba6b2c57ed129731</td>\n",
       "      <td>ca</td>\n",
       "      <td>4.3</td>\n",
       "      <td>2641.0</td>\n",
       "      <td>gray</td>\n",
       "      <td>black</td>\n",
       "      <td>financial services remarketing (lease)</td>\n",
       "      <td>66000.0</td>\n",
       "      <td>67000</td>\n",
       "      <td>2014-12-18 04:30:00+00:00</td>\n",
       "    </tr>\n",
       "    <tr>\n",
       "      <th>5</th>\n",
       "      <td>2015</td>\n",
       "      <td>nissan</td>\n",
       "      <td>Altima</td>\n",
       "      <td>2.5 S</td>\n",
       "      <td>Sedan</td>\n",
       "      <td>automatic</td>\n",
       "      <td>1n4al3ap1fn326013</td>\n",
       "      <td>ca</td>\n",
       "      <td>1.0</td>\n",
       "      <td>5554.0</td>\n",
       "      <td>gray</td>\n",
       "      <td>black</td>\n",
       "      <td>enterprise vehicle exchange / tra / rental / t...</td>\n",
       "      <td>15350.0</td>\n",
       "      <td>10900</td>\n",
       "      <td>2014-12-30 04:00:00+00:00</td>\n",
       "    </tr>\n",
       "    <tr>\n",
       "      <th>...</th>\n",
       "      <td>...</td>\n",
       "      <td>...</td>\n",
       "      <td>...</td>\n",
       "      <td>...</td>\n",
       "      <td>...</td>\n",
       "      <td>...</td>\n",
       "      <td>...</td>\n",
       "      <td>...</td>\n",
       "      <td>...</td>\n",
       "      <td>...</td>\n",
       "      <td>...</td>\n",
       "      <td>...</td>\n",
       "      <td>...</td>\n",
       "      <td>...</td>\n",
       "      <td>...</td>\n",
       "      <td>...</td>\n",
       "    </tr>\n",
       "    <tr>\n",
       "      <th>558831</th>\n",
       "      <td>2011</td>\n",
       "      <td>bmw</td>\n",
       "      <td>5 Series</td>\n",
       "      <td>528i</td>\n",
       "      <td>Sedan</td>\n",
       "      <td>automatic</td>\n",
       "      <td>wbafr1c53bc744672</td>\n",
       "      <td>fl</td>\n",
       "      <td>3.9</td>\n",
       "      <td>66403.0</td>\n",
       "      <td>white</td>\n",
       "      <td>brown</td>\n",
       "      <td>lauderdale imports ltd bmw pembrok pines</td>\n",
       "      <td>20300.0</td>\n",
       "      <td>22800</td>\n",
       "      <td>2015-07-06 23:15:00+00:00</td>\n",
       "    </tr>\n",
       "    <tr>\n",
       "      <th>558832</th>\n",
       "      <td>2015</td>\n",
       "      <td>kia</td>\n",
       "      <td>K900</td>\n",
       "      <td>Luxury</td>\n",
       "      <td>Sedan</td>\n",
       "      <td>NaN</td>\n",
       "      <td>knalw4d4xf6019304</td>\n",
       "      <td>in</td>\n",
       "      <td>4.5</td>\n",
       "      <td>18255.0</td>\n",
       "      <td>silver</td>\n",
       "      <td>black</td>\n",
       "      <td>avis corporation</td>\n",
       "      <td>35300.0</td>\n",
       "      <td>33000</td>\n",
       "      <td>2015-07-09 00:00:00+00:00</td>\n",
       "    </tr>\n",
       "    <tr>\n",
       "      <th>558834</th>\n",
       "      <td>2012</td>\n",
       "      <td>bmw</td>\n",
       "      <td>X5</td>\n",
       "      <td>xDrive35d</td>\n",
       "      <td>SUV</td>\n",
       "      <td>automatic</td>\n",
       "      <td>5uxzw0c58cl668465</td>\n",
       "      <td>ca</td>\n",
       "      <td>4.8</td>\n",
       "      <td>50561.0</td>\n",
       "      <td>black</td>\n",
       "      <td>black</td>\n",
       "      <td>financial services remarketing (lease)</td>\n",
       "      <td>29800.0</td>\n",
       "      <td>34000</td>\n",
       "      <td>2015-07-08 02:30:00+00:00</td>\n",
       "    </tr>\n",
       "    <tr>\n",
       "      <th>558835</th>\n",
       "      <td>2015</td>\n",
       "      <td>nissan</td>\n",
       "      <td>Altima</td>\n",
       "      <td>2.5 S</td>\n",
       "      <td>sedan</td>\n",
       "      <td>automatic</td>\n",
       "      <td>1n4al3ap0fc216050</td>\n",
       "      <td>ga</td>\n",
       "      <td>3.8</td>\n",
       "      <td>16658.0</td>\n",
       "      <td>white</td>\n",
       "      <td>black</td>\n",
       "      <td>enterprise vehicle exchange / tra / rental / t...</td>\n",
       "      <td>15100.0</td>\n",
       "      <td>11100</td>\n",
       "      <td>2015-07-08 23:45:00+00:00</td>\n",
       "    </tr>\n",
       "    <tr>\n",
       "      <th>558836</th>\n",
       "      <td>2014</td>\n",
       "      <td>ford</td>\n",
       "      <td>F-150</td>\n",
       "      <td>XLT</td>\n",
       "      <td>SuperCrew</td>\n",
       "      <td>automatic</td>\n",
       "      <td>1ftfw1et2eke87277</td>\n",
       "      <td>ca</td>\n",
       "      <td>3.4</td>\n",
       "      <td>15008.0</td>\n",
       "      <td>gray</td>\n",
       "      <td>gray</td>\n",
       "      <td>ford motor credit company,llc pd</td>\n",
       "      <td>29600.0</td>\n",
       "      <td>26700</td>\n",
       "      <td>2015-05-27 22:30:00+00:00</td>\n",
       "    </tr>\n",
       "  </tbody>\n",
       "</table>\n",
       "<p>271047 rows × 16 columns</p>\n",
       "</div>"
      ],
      "text/plain": [
       "        year    make                model        trim       body transmission  \\\n",
       "0       2015     kia              Sorento          LX        SUV    automatic   \n",
       "1       2015     kia              Sorento          LX        SUV    automatic   \n",
       "2       2014     bmw             3 Series  328i SULEV      Sedan    automatic   \n",
       "4       2014     bmw  6 Series Gran Coupe        650i      Sedan    automatic   \n",
       "5       2015  nissan               Altima       2.5 S      Sedan    automatic   \n",
       "...      ...     ...                  ...         ...        ...          ...   \n",
       "558831  2011     bmw             5 Series        528i      Sedan    automatic   \n",
       "558832  2015     kia                 K900      Luxury      Sedan          NaN   \n",
       "558834  2012     bmw                   X5   xDrive35d        SUV    automatic   \n",
       "558835  2015  nissan               Altima       2.5 S      sedan    automatic   \n",
       "558836  2014    ford                F-150         XLT  SuperCrew    automatic   \n",
       "\n",
       "                      vin state  condition  odometer   color interior  \\\n",
       "0       5xyktca69fg566472    ca        5.0   16639.0   white    black   \n",
       "1       5xyktca69fg561319    ca        5.0    9393.0   white    beige   \n",
       "2       wba3c1c51ek116351    ca        4.5    1331.0    gray    black   \n",
       "4       wba6b2c57ed129731    ca        4.3    2641.0    gray    black   \n",
       "5       1n4al3ap1fn326013    ca        1.0    5554.0    gray    black   \n",
       "...                   ...   ...        ...       ...     ...      ...   \n",
       "558831  wbafr1c53bc744672    fl        3.9   66403.0   white    brown   \n",
       "558832  knalw4d4xf6019304    in        4.5   18255.0  silver    black   \n",
       "558834  5uxzw0c58cl668465    ca        4.8   50561.0   black    black   \n",
       "558835  1n4al3ap0fc216050    ga        3.8   16658.0   white    black   \n",
       "558836  1ftfw1et2eke87277    ca        3.4   15008.0    gray     gray   \n",
       "\n",
       "                                                   seller      mmr  \\\n",
       "0                                 kia motors america, inc  20500.0   \n",
       "1                                 kia motors america, inc  20800.0   \n",
       "2                  financial services remarketing (lease)  31900.0   \n",
       "4                  financial services remarketing (lease)  66000.0   \n",
       "5       enterprise vehicle exchange / tra / rental / t...  15350.0   \n",
       "...                                                   ...      ...   \n",
       "558831           lauderdale imports ltd bmw pembrok pines  20300.0   \n",
       "558832                                   avis corporation  35300.0   \n",
       "558834             financial services remarketing (lease)  29800.0   \n",
       "558835  enterprise vehicle exchange / tra / rental / t...  15100.0   \n",
       "558836                   ford motor credit company,llc pd  29600.0   \n",
       "\n",
       "        sellingprice                  saledate  \n",
       "0              21500 2014-12-16 04:30:00+00:00  \n",
       "1              21500 2014-12-16 04:30:00+00:00  \n",
       "2              30000 2015-01-14 20:30:00+00:00  \n",
       "4              67000 2014-12-18 04:30:00+00:00  \n",
       "5              10900 2014-12-30 04:00:00+00:00  \n",
       "...              ...                       ...  \n",
       "558831         22800 2015-07-06 23:15:00+00:00  \n",
       "558832         33000 2015-07-09 00:00:00+00:00  \n",
       "558834         34000 2015-07-08 02:30:00+00:00  \n",
       "558835         11100 2015-07-08 23:45:00+00:00  \n",
       "558836         26700 2015-05-27 22:30:00+00:00  \n",
       "\n",
       "[271047 rows x 16 columns]"
      ]
     },
     "execution_count": 30,
     "metadata": {},
     "output_type": "execute_result"
    }
   ],
   "source": [
    "df_final"
   ]
  },
  {
   "cell_type": "code",
   "execution_count": 31,
   "id": "d5702672",
   "metadata": {},
   "outputs": [
    {
     "data": {
      "image/png": "[encoded data removed]",
      "text/plain": [
       "<Figure size 640x480 with 1 Axes>"
      ]
     },
     "metadata": {},
     "output_type": "display_data"
    },
    {
     "data": {
      "image/png": "[encoded data removed]",
      "text/plain": [
       "<Figure size 640x480 with 1 Axes>"
      ]
     },
     "metadata": {},
     "output_type": "display_data"
    },
    {
     "data": {
      "image/png": "[encoded data removed]",
      "text/plain": [
       "<Figure size 640x480 with 1 Axes>"
      ]
     },
     "metadata": {},
     "output_type": "display_data"
    },
    {
     "data": {
      "image/png": "[encoded data removed]",
      "text/plain": [
       "<Figure size 640x480 with 1 Axes>"
      ]
     },
     "metadata": {},
     "output_type": "display_data"
    },
    {
     "data": {
      "image/png": "[encoded data removed]",
      "text/plain": [
       "<Figure size 640x480 with 1 Axes>"
      ]
     },
     "metadata": {},
     "output_type": "display_data"
    },
    {
     "data": {
      "image/png": "[encoded data removed]",
      "text/plain": [
       "<Figure size 640x480 with 1 Axes>"
      ]
     },
     "metadata": {},
     "output_type": "display_data"
    },
    {
     "data": {
      "image/png": "[encoded data removed]",
      "text/plain": [
       "<Figure size 640x480 with 1 Axes>"
      ]
     },
     "metadata": {},
     "output_type": "display_data"
    },
    {
     "data": {
      "image/png": "[encoded data removed]",
      "text/plain": [
       "<Figure size 640x480 with 1 Axes>"
      ]
     },
     "metadata": {},
     "output_type": "display_data"
    },
    {
     "data": {
      "image/png": "[encoded data removed]",
      "text/plain": [
       "<Figure size 640x480 with 1 Axes>"
      ]
     },
     "metadata": {},
     "output_type": "display_data"
    },
    {
     "data": {
      "image/png": "[encoded data removed]",
      "text/plain": [
       "<Figure size 640x480 with 1 Axes>"
      ]
     },
     "metadata": {},
     "output_type": "display_data"
    }
   ],
   "source": [
    "for make in top_makes:\n",
    "    data = df_final[df_final['make'] == make].groupby('year')['sellingprice'].apply(list)\n",
    "    fig, ax = plt.subplots()\n",
    "    ax.boxplot(data, positions=data.index, widths=0.5, showfliers=False)\n",
    "    ax.set_xticks(data.index)\n",
    "    ax.set_xlabel('Year')\n",
    "    ax.set_ylabel('Selling Price')\n",
    "    ax.set_title(make)\n",
    "    plt.show()"
   ]
  },
  {
   "cell_type": "markdown",
   "id": "ca8135aa",
   "metadata": {},
   "source": [
    "#### We can see from the trends, almost all the makes had an upwards trend in selling price. It is also worth noting that usually, there is sharper increase from 2014-2015 than between any other years (see infiniti, kia, chevrolet, ford). This might be because there was an increase in price of one of the raw materials required to make the car after 2014"
   ]
  },
  {
   "cell_type": "markdown",
   "id": "843026ed",
   "metadata": {},
   "source": [
    "#### Toyota and Nissan has had their prices remain more or less the same"
   ]
  },
  {
   "cell_type": "code",
   "execution_count": null,
   "id": "acea31ad",
   "metadata": {},
   "outputs": [],
   "source": []
  }
 ],
 "metadata": {
  "kernelspec": {
   "display_name": "Python 3 (ipykernel)",
   "language": "python",
   "name": "python3"
  },
  "language_info": {
   "codemirror_mode": {
    "name": "ipython",
    "version": 3
   },
   "file_extension": ".py",
   "mimetype": "text/x-python",
   "name": "python",
   "nbconvert_exporter": "python",
   "pygments_lexer": "ipython3",
   "version": "3.10.6"
  }
 },
 "nbformat": 4,
 "nbformat_minor": 5
}
