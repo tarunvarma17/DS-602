{
 "cells": [
  {
   "cell_type": "code",
   "execution_count": 1,
   "id": "644fc277",
   "metadata": {},
   "outputs": [
    {
     "data": {
      "text/html": [
       "<div>\n",
       "<style scoped>\n",
       "    .dataframe tbody tr th:only-of-type {\n",
       "        vertical-align: middle;\n",
       "    }\n",
       "\n",
       "    .dataframe tbody tr th {\n",
       "        vertical-align: top;\n",
       "    }\n",
       "\n",
       "    .dataframe thead th {\n",
       "        text-align: right;\n",
       "    }\n",
       "</style>\n",
       "<table border=\"1\" class=\"dataframe\">\n",
       "  <thead>\n",
       "    <tr style=\"text-align: right;\">\n",
       "      <th></th>\n",
       "      <th>actual</th>\n",
       "      <th>prob</th>\n",
       "    </tr>\n",
       "  </thead>\n",
       "  <tbody>\n",
       "    <tr>\n",
       "      <th>0</th>\n",
       "      <td>0.0</td>\n",
       "      <td>0.380052</td>\n",
       "    </tr>\n",
       "    <tr>\n",
       "      <th>1</th>\n",
       "      <td>1.0</td>\n",
       "      <td>0.827923</td>\n",
       "    </tr>\n",
       "    <tr>\n",
       "      <th>2</th>\n",
       "      <td>1.0</td>\n",
       "      <td>0.929093</td>\n",
       "    </tr>\n",
       "    <tr>\n",
       "      <th>3</th>\n",
       "      <td>1.0</td>\n",
       "      <td>0.472508</td>\n",
       "    </tr>\n",
       "    <tr>\n",
       "      <th>4</th>\n",
       "      <td>1.0</td>\n",
       "      <td>0.906988</td>\n",
       "    </tr>\n",
       "  </tbody>\n",
       "</table>\n",
       "</div>"
      ],
      "text/plain": [
       "   actual      prob\n",
       "0     0.0  0.380052\n",
       "1     1.0  0.827923\n",
       "2     1.0  0.929093\n",
       "3     1.0  0.472508\n",
       "4     1.0  0.906988"
      ]
     },
     "execution_count": 1,
     "metadata": {},
     "output_type": "execute_result"
    }
   ],
   "source": [
    "import pandas as pd\n",
    "import numpy as np\n",
    "import matplotlib.pyplot as plt\n",
    "\n",
    "results = pd.read_csv('https://raw.githubusercontent.com/msaricaumbc/DS_data/master/ds602/lab-evaluation-data.csv')\n",
    "results.head()"
   ]
  },
  {
   "cell_type": "markdown",
   "id": "83a5b66c",
   "metadata": {},
   "source": [
    "### Question 1"
   ]
  },
  {
   "cell_type": "code",
   "execution_count": 2,
   "id": "78930524",
   "metadata": {},
   "outputs": [
    {
     "data": {
      "text/plain": [
       "1.0    3000\n",
       "0.0    2000\n",
       "Name: actual, dtype: int64"
      ]
     },
     "execution_count": 2,
     "metadata": {},
     "output_type": "execute_result"
    }
   ],
   "source": [
    "results[\"actual\"].value_counts()"
   ]
  },
  {
   "cell_type": "markdown",
   "id": "85afa83d",
   "metadata": {},
   "source": [
    "#### As we can see, these are not entirely balanced. So, this increases the chance that when we do a train test split, there's a higher chance one of the splits will have a higher percentage of 'True' values. However it is still not that unbalanced"
   ]
  },
  {
   "cell_type": "markdown",
   "id": "f43fb4f5",
   "metadata": {},
   "source": [
    "### Question 2"
   ]
  },
  {
   "cell_type": "code",
   "execution_count": 3,
   "id": "481c87d1",
   "metadata": {},
   "outputs": [
    {
     "data": {
      "text/plain": [
       "Text(0.5, 1.0, 'Histogram of Probabilty')"
      ]
     },
     "execution_count": 3,
     "metadata": {},
     "output_type": "execute_result"
    },
    {
     "data": {
      "image/png": "[encoded data removed]",
      "text/plain": [
       "<Figure size 640x480 with 1 Axes>"
      ]
     },
     "metadata": {},
     "output_type": "display_data"
    }
   ],
   "source": [
    "results.hist(column='prob')\n",
    "plt.xlabel(\"Probability\")\n",
    "plt.ylabel(\"No. of occurances\")\n",
    "plt.title(\"Histogram of Probabilty\")"
   ]
  },
  {
   "cell_type": "markdown",
   "id": "a6c05978",
   "metadata": {},
   "source": [
    "#### In a way, this data is somewhat bimodal with two peaks, one around the 0.3 range for the 0.0 case, and a higher one around 0.8 for the 1.0 case. "
   ]
  },
  {
   "cell_type": "markdown",
   "id": "2be4a020",
   "metadata": {},
   "source": [
    "### Question 3"
   ]
  },
  {
   "cell_type": "code",
   "execution_count": 4,
   "id": "00a8d016",
   "metadata": {},
   "outputs": [],
   "source": [
    "results['pred'] = (results['prob'] > 0.5).astype(float) \n",
    "#this works because it first returns boolean, which we convert to float type (to match actual column) so 0's and 1's"
   ]
  },
  {
   "cell_type": "code",
   "execution_count": 5,
   "id": "735f6eaf",
   "metadata": {},
   "outputs": [
    {
     "data": {
      "text/html": [
       "<div>\n",
       "<style scoped>\n",
       "    .dataframe tbody tr th:only-of-type {\n",
       "        vertical-align: middle;\n",
       "    }\n",
       "\n",
       "    .dataframe tbody tr th {\n",
       "        vertical-align: top;\n",
       "    }\n",
       "\n",
       "    .dataframe thead th {\n",
       "        text-align: right;\n",
       "    }\n",
       "</style>\n",
       "<table border=\"1\" class=\"dataframe\">\n",
       "  <thead>\n",
       "    <tr style=\"text-align: right;\">\n",
       "      <th></th>\n",
       "      <th>actual</th>\n",
       "      <th>prob</th>\n",
       "      <th>pred</th>\n",
       "    </tr>\n",
       "  </thead>\n",
       "  <tbody>\n",
       "    <tr>\n",
       "      <th>0</th>\n",
       "      <td>0.0</td>\n",
       "      <td>0.380052</td>\n",
       "      <td>0.0</td>\n",
       "    </tr>\n",
       "    <tr>\n",
       "      <th>1</th>\n",
       "      <td>1.0</td>\n",
       "      <td>0.827923</td>\n",
       "      <td>1.0</td>\n",
       "    </tr>\n",
       "    <tr>\n",
       "      <th>2</th>\n",
       "      <td>1.0</td>\n",
       "      <td>0.929093</td>\n",
       "      <td>1.0</td>\n",
       "    </tr>\n",
       "    <tr>\n",
       "      <th>3</th>\n",
       "      <td>1.0</td>\n",
       "      <td>0.472508</td>\n",
       "      <td>0.0</td>\n",
       "    </tr>\n",
       "    <tr>\n",
       "      <th>4</th>\n",
       "      <td>1.0</td>\n",
       "      <td>0.906988</td>\n",
       "      <td>1.0</td>\n",
       "    </tr>\n",
       "    <tr>\n",
       "      <th>...</th>\n",
       "      <td>...</td>\n",
       "      <td>...</td>\n",
       "      <td>...</td>\n",
       "    </tr>\n",
       "    <tr>\n",
       "      <th>4995</th>\n",
       "      <td>0.0</td>\n",
       "      <td>0.109184</td>\n",
       "      <td>0.0</td>\n",
       "    </tr>\n",
       "    <tr>\n",
       "      <th>4996</th>\n",
       "      <td>1.0</td>\n",
       "      <td>0.920730</td>\n",
       "      <td>1.0</td>\n",
       "    </tr>\n",
       "    <tr>\n",
       "      <th>4997</th>\n",
       "      <td>1.0</td>\n",
       "      <td>0.899630</td>\n",
       "      <td>1.0</td>\n",
       "    </tr>\n",
       "    <tr>\n",
       "      <th>4998</th>\n",
       "      <td>0.0</td>\n",
       "      <td>0.198838</td>\n",
       "      <td>0.0</td>\n",
       "    </tr>\n",
       "    <tr>\n",
       "      <th>4999</th>\n",
       "      <td>1.0</td>\n",
       "      <td>0.822665</td>\n",
       "      <td>1.0</td>\n",
       "    </tr>\n",
       "  </tbody>\n",
       "</table>\n",
       "<p>5000 rows × 3 columns</p>\n",
       "</div>"
      ],
      "text/plain": [
       "      actual      prob  pred\n",
       "0        0.0  0.380052   0.0\n",
       "1        1.0  0.827923   1.0\n",
       "2        1.0  0.929093   1.0\n",
       "3        1.0  0.472508   0.0\n",
       "4        1.0  0.906988   1.0\n",
       "...      ...       ...   ...\n",
       "4995     0.0  0.109184   0.0\n",
       "4996     1.0  0.920730   1.0\n",
       "4997     1.0  0.899630   1.0\n",
       "4998     0.0  0.198838   0.0\n",
       "4999     1.0  0.822665   1.0\n",
       "\n",
       "[5000 rows x 3 columns]"
      ]
     },
     "execution_count": 5,
     "metadata": {},
     "output_type": "execute_result"
    }
   ],
   "source": [
    "results"
   ]
  },
  {
   "cell_type": "code",
   "execution_count": 6,
   "id": "6b47d1a5",
   "metadata": {},
   "outputs": [
    {
     "data": {
      "text/html": [
       "<div>\n",
       "<style scoped>\n",
       "    .dataframe tbody tr th:only-of-type {\n",
       "        vertical-align: middle;\n",
       "    }\n",
       "\n",
       "    .dataframe tbody tr th {\n",
       "        vertical-align: top;\n",
       "    }\n",
       "\n",
       "    .dataframe thead th {\n",
       "        text-align: right;\n",
       "    }\n",
       "</style>\n",
       "<table border=\"1\" class=\"dataframe\">\n",
       "  <thead>\n",
       "    <tr style=\"text-align: right;\">\n",
       "      <th></th>\n",
       "      <th>actual</th>\n",
       "      <th>prob</th>\n",
       "      <th>pred</th>\n",
       "      <th>bucket</th>\n",
       "    </tr>\n",
       "  </thead>\n",
       "  <tbody>\n",
       "    <tr>\n",
       "      <th>0</th>\n",
       "      <td>0.0</td>\n",
       "      <td>0.380052</td>\n",
       "      <td>0.0</td>\n",
       "      <td>TN</td>\n",
       "    </tr>\n",
       "    <tr>\n",
       "      <th>1</th>\n",
       "      <td>1.0</td>\n",
       "      <td>0.827923</td>\n",
       "      <td>1.0</td>\n",
       "      <td>TP</td>\n",
       "    </tr>\n",
       "    <tr>\n",
       "      <th>2</th>\n",
       "      <td>1.0</td>\n",
       "      <td>0.929093</td>\n",
       "      <td>1.0</td>\n",
       "      <td>TP</td>\n",
       "    </tr>\n",
       "    <tr>\n",
       "      <th>3</th>\n",
       "      <td>1.0</td>\n",
       "      <td>0.472508</td>\n",
       "      <td>0.0</td>\n",
       "      <td>FN</td>\n",
       "    </tr>\n",
       "    <tr>\n",
       "      <th>4</th>\n",
       "      <td>1.0</td>\n",
       "      <td>0.906988</td>\n",
       "      <td>1.0</td>\n",
       "      <td>TP</td>\n",
       "    </tr>\n",
       "  </tbody>\n",
       "</table>\n",
       "</div>"
      ],
      "text/plain": [
       "   actual      prob  pred bucket\n",
       "0     0.0  0.380052   0.0     TN\n",
       "1     1.0  0.827923   1.0     TP\n",
       "2     1.0  0.929093   1.0     TP\n",
       "3     1.0  0.472508   0.0     FN\n",
       "4     1.0  0.906988   1.0     TP"
      ]
     },
     "execution_count": 6,
     "metadata": {},
     "output_type": "execute_result"
    }
   ],
   "source": [
    "#now for confusion matrix, we need to find the total TP, FP, TN, FN\n",
    "conditions = [\n",
    "    (results['pred'] == 0) & (results['actual'] == 0 ),\n",
    "    (results['pred'] == 0) & (results['actual'] == 1),\n",
    "    (results['pred'] == 1) & (results['actual'] == 0),\n",
    "    (results['pred'] == 1) & (results['actual'] == 1)\n",
    "    ]\n",
    "\n",
    "values = ['TN', 'FN', 'FP', 'TP']\n",
    "\n",
    "results['bucket'] = np.select(conditions, values)\n",
    "\n",
    "results.head()"
   ]
  },
  {
   "cell_type": "code",
   "execution_count": 7,
   "id": "2062896c",
   "metadata": {},
   "outputs": [
    {
     "data": {
      "text/plain": [
       "TP    2623\n",
       "TN    1790\n",
       "FN     377\n",
       "FP     210\n",
       "Name: bucket, dtype: int64"
      ]
     },
     "execution_count": 7,
     "metadata": {},
     "output_type": "execute_result"
    }
   ],
   "source": [
    "results[\"bucket\"].value_counts()"
   ]
  },
  {
   "cell_type": "code",
   "execution_count": 8,
   "id": "062ea9f8",
   "metadata": {},
   "outputs": [],
   "source": [
    "tp, tn, fn, fp = results[\"bucket\"].value_counts().tolist()"
   ]
  },
  {
   "cell_type": "code",
   "execution_count": 9,
   "id": "af538449",
   "metadata": {},
   "outputs": [
    {
     "data": {
      "text/plain": [
       "2623"
      ]
     },
     "execution_count": 9,
     "metadata": {},
     "output_type": "execute_result"
    }
   ],
   "source": [
    "tp"
   ]
  },
  {
   "cell_type": "code",
   "execution_count": 10,
   "id": "41d8d5f4",
   "metadata": {},
   "outputs": [
    {
     "data": {
      "text/plain": [
       "1790"
      ]
     },
     "execution_count": 10,
     "metadata": {},
     "output_type": "execute_result"
    }
   ],
   "source": [
    "tn"
   ]
  },
  {
   "cell_type": "code",
   "execution_count": 11,
   "id": "4a56b017",
   "metadata": {},
   "outputs": [
    {
     "data": {
      "text/plain": [
       "377"
      ]
     },
     "execution_count": 11,
     "metadata": {},
     "output_type": "execute_result"
    }
   ],
   "source": [
    "fn"
   ]
  },
  {
   "cell_type": "code",
   "execution_count": 12,
   "id": "7b68ddc4",
   "metadata": {},
   "outputs": [
    {
     "data": {
      "text/plain": [
       "210"
      ]
     },
     "execution_count": 12,
     "metadata": {},
     "output_type": "execute_result"
    }
   ],
   "source": [
    "fp"
   ]
  },
  {
   "cell_type": "code",
   "execution_count": 13,
   "id": "de1aab29",
   "metadata": {},
   "outputs": [
    {
     "name": "stdout",
     "output_type": "stream",
     "text": [
      "Confusion Matrix:\n",
      "2623 210\n",
      "377 1790\n"
     ]
    }
   ],
   "source": [
    "print(\"Confusion Matrix:\")\n",
    "print(tp, fp)\n",
    "print(fn, tn)"
   ]
  },
  {
   "cell_type": "markdown",
   "id": "ae37422f",
   "metadata": {},
   "source": [
    "#### Immediately, we can see the number of TP's and TN's are higher than the other two. This is automatically a good sign for the model. We are having more False negatives than False Positives, which means the model at this threshold is more likely to wrongly label something as Negative than Positive. This could be because we have more Positive values in the dataset"
   ]
  },
  {
   "cell_type": "markdown",
   "id": "e9660edf",
   "metadata": {},
   "source": [
    "### Question 4"
   ]
  },
  {
   "cell_type": "code",
   "execution_count": 14,
   "id": "79022d87",
   "metadata": {},
   "outputs": [
    {
     "data": {
      "text/plain": [
       "0.9258736321920226"
      ]
     },
     "execution_count": 14,
     "metadata": {},
     "output_type": "execute_result"
    }
   ],
   "source": [
    "precision = tp/(tp+fp)\n",
    "precision"
   ]
  },
  {
   "cell_type": "code",
   "execution_count": 15,
   "id": "8739db1d",
   "metadata": {},
   "outputs": [
    {
     "data": {
      "text/plain": [
       "0.8743333333333333"
      ]
     },
     "execution_count": 15,
     "metadata": {},
     "output_type": "execute_result"
    }
   ],
   "source": [
    "recall = tp/(tp+fn)\n",
    "recall"
   ]
  },
  {
   "cell_type": "code",
   "execution_count": 16,
   "id": "f615bd23",
   "metadata": {},
   "outputs": [
    {
     "data": {
      "text/plain": [
       "0.8826"
      ]
     },
     "execution_count": 16,
     "metadata": {},
     "output_type": "execute_result"
    }
   ],
   "source": [
    "accuracy = (tp+tn)/(tp+tn+fp+fn)\n",
    "accuracy"
   ]
  },
  {
   "cell_type": "markdown",
   "id": "c6730c38",
   "metadata": {},
   "source": [
    "#### As discussed above, since there is a higher number of Positive cases, it will be more likely for the model to miss some positives, and predict these as negatives. Thus, we want to punish False negatives the most. Thus I will choose recall as the metric"
   ]
  },
  {
   "cell_type": "markdown",
   "id": "d4201b45",
   "metadata": {},
   "source": [
    "### Question 5"
   ]
  },
  {
   "cell_type": "code",
   "execution_count": 17,
   "id": "b6a5265e",
   "metadata": {},
   "outputs": [
    {
     "name": "stdout",
     "output_type": "stream",
     "text": [
      "[0.0, 0.1, 0.2, 0.3, 0.4, 0.5, 0.6, 0.7, 0.8, 0.9, 1.0]\n"
     ]
    }
   ],
   "source": [
    "# to plot the ROC curve without libraries, we must find Tp rate and FP rate at different thresholds\n",
    "thres = [x/10 for x in range(0, 11)]\n",
    "print(thres)"
   ]
  },
  {
   "cell_type": "code",
   "execution_count": 18,
   "id": "3043249f",
   "metadata": {},
   "outputs": [],
   "source": [
    "tpr_list, fpr_list = [],[]\n",
    "for t in thres:\n",
    "    results[\"pred_thresh\"] = (results['prob'] > t).astype(float)\n",
    "    conditions = [\n",
    "        (results['pred_thresh'] == 0) & (results['actual'] == 0),\n",
    "        (results['pred_thresh'] == 0) & (results['actual'] == 1),\n",
    "        (results['pred_thresh'] == 1) & (results['actual'] == 0),\n",
    "        (results['pred_thresh'] == 1) & (results['actual'] == 1)\n",
    "        ]\n",
    "    values = ['TN', 'FN', 'FP', 'TP']\n",
    "    results['bucket_thresh'] = np.select(conditions, values)\n",
    "    tpt = results[\"bucket_thresh\"].value_counts().get('TP', 0)\n",
    "    fpt = results[\"bucket_thresh\"].value_counts().get('FP', 0)  \n",
    "    tnt = results[\"bucket_thresh\"].value_counts().get('TN', 0)  \n",
    "    fnt = results[\"bucket_thresh\"].value_counts().get('FN', 0)\n",
    "    \n",
    "    tpr = tpt/(tpt+fnt)\n",
    "    fpr = fpt/(fpt + tnt)\n",
    "    tpr_list.append(tpr)\n",
    "    fpr_list.append(fpr)"
   ]
  },
  {
   "cell_type": "code",
   "execution_count": 19,
   "id": "7a008dca",
   "metadata": {},
   "outputs": [
    {
     "data": {
      "image/png": "[encoded data removed]",
      "text/plain": [
       "<Figure size 640x480 with 1 Axes>"
      ]
     },
     "metadata": {},
     "output_type": "display_data"
    }
   ],
   "source": [
    "plt.plot(fpr_list,tpr_list, 'r-')\n",
    "plt.plot(thres,thres,'b--')\n",
    "plt.xlabel(\"False Positive Rate\")\n",
    "plt.ylabel(\"True Positive Rate\")\n",
    "plt.title(\"ROC Curve\")\n",
    "plt.show()"
   ]
  },
  {
   "cell_type": "markdown",
   "id": "11b19ae1",
   "metadata": {},
   "source": [
    "#### The ROC curve looks good, with a fairly large area under the curve (visually). We can see that up until a TPR of 60%, we have no false positive rate. This shows the model is quite good. However, it can be better, and he area under the curve can be improved"
   ]
  },
  {
   "cell_type": "code",
   "execution_count": null,
   "id": "fa007a24",
   "metadata": {},
   "outputs": [],
   "source": []
  }
 ],
 "metadata": {
  "kernelspec": {
   "display_name": "Python 3 (ipykernel)",
   "language": "python",
   "name": "python3"
  },
  "language_info": {
   "codemirror_mode": {
    "name": "ipython",
    "version": 3
   },
   "file_extension": ".py",
   "mimetype": "text/x-python",
   "name": "python",
   "nbconvert_exporter": "python",
   "pygments_lexer": "ipython3",
   "version": "3.10.6"
  }
 },
 "nbformat": 4,
 "nbformat_minor": 5
}
