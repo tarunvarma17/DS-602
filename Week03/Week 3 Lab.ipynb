{
 "cells": [
  {
   "cell_type": "markdown",
   "id": "0f56a80d",
   "metadata": {},
   "source": [
    "### Q1) Differences between supervised and unsupervised learning?"
   ]
  },
  {
   "cell_type": "markdown",
   "id": "3ba091b7",
   "metadata": {},
   "source": [
    "#### Supervised learning refers to the branch of machine learning where the training data is fed into the machine with labels, or pre-existing answers. So, the data uses these to learn and make future predictions. In that sense, it is supervised because it has something to learn from past data and better itself. For example, this can be used to estimate the rent of a house given the details about said house\n",
    "\n",
    "#### On the other side, unsupervised learning refers to that type of learning where there are no labels. When we give a model unsupervised data, there is not necessarily a 'right' answer. It just groups the data together in whatever way it thinks is best. For example, this can be used to group together relevant news atricles in a website."
   ]
  },
  {
   "cell_type": "markdown",
   "id": "fcb22bb0",
   "metadata": {},
   "source": [
    "### Q2) Differences between classification and regression?"
   ]
  },
  {
   "cell_type": "markdown",
   "id": "7f157114",
   "metadata": {},
   "source": [
    "#### Classification is used when we need to differentiate a certain item between two or more different classes. We can place an item into one or many 'buckets', or classify them into groups. An example of this would be to predict whether someone will pass a class or not. Here the two classes are 'pass the test' and 'fail the test'\n",
    "\n",
    "#### Regression on the other hand is used to fit the best possible curve onto a dataset, to predict exact values. It can be used to predict the exact marks a student will get in a given assignment"
   ]
  },
  {
   "cell_type": "markdown",
   "id": "ebf83211",
   "metadata": {},
   "source": [
    "### Q3) Classification and regression are the only types of supervised learning?"
   ]
  },
  {
   "cell_type": "markdown",
   "id": "e880fd75",
   "metadata": {},
   "source": [
    "#### No they are not. There are multiple other types of supervised learning such as Neural Networks, Random Forest, SVM, decision trees etc."
   ]
  }
 ],
 "metadata": {
  "kernelspec": {
   "display_name": "Python 3 (ipykernel)",
   "language": "python",
   "name": "python3"
  },
  "language_info": {
   "codemirror_mode": {
    "name": "ipython",
    "version": 3
   },
   "file_extension": ".py",
   "mimetype": "text/x-python",
   "name": "python",
   "nbconvert_exporter": "python",
   "pygments_lexer": "ipython3",
   "version": "3.10.6"
  }
 },
 "nbformat": 4,
 "nbformat_minor": 5
}
