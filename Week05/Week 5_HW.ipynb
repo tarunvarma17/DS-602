{
 "cells": [
  {
   "cell_type": "code",
   "execution_count": 1,
   "id": "d908db48",
   "metadata": {},
   "outputs": [
    {
     "data": {
      "text/html": [
       "<div>\n",
       "<style scoped>\n",
       "    .dataframe tbody tr th:only-of-type {\n",
       "        vertical-align: middle;\n",
       "    }\n",
       "\n",
       "    .dataframe tbody tr th {\n",
       "        vertical-align: top;\n",
       "    }\n",
       "\n",
       "    .dataframe thead th {\n",
       "        text-align: right;\n",
       "    }\n",
       "</style>\n",
       "<table border=\"1\" class=\"dataframe\">\n",
       "  <thead>\n",
       "    <tr style=\"text-align: right;\">\n",
       "      <th></th>\n",
       "      <th>left_company</th>\n",
       "      <th>age</th>\n",
       "      <th>frequency_of_travel</th>\n",
       "      <th>department</th>\n",
       "      <th>commuting_distance</th>\n",
       "      <th>education</th>\n",
       "      <th>satisfaction_with_environment</th>\n",
       "      <th>gender</th>\n",
       "      <th>seniority_level</th>\n",
       "      <th>position</th>\n",
       "      <th>satisfaction_with_job</th>\n",
       "      <th>married_or_single</th>\n",
       "      <th>last_raise_pct</th>\n",
       "      <th>last_performance_rating</th>\n",
       "      <th>total_years_working</th>\n",
       "      <th>years_at_company</th>\n",
       "      <th>years_in_current_job</th>\n",
       "      <th>years_since_last_promotion</th>\n",
       "      <th>years_with_current_supervisor</th>\n",
       "    </tr>\n",
       "  </thead>\n",
       "  <tbody>\n",
       "    <tr>\n",
       "      <th>0</th>\n",
       "      <td>No</td>\n",
       "      <td>37</td>\n",
       "      <td>Travel_Rarely</td>\n",
       "      <td>Sales</td>\n",
       "      <td>16</td>\n",
       "      <td>4</td>\n",
       "      <td>4</td>\n",
       "      <td>Male</td>\n",
       "      <td>2</td>\n",
       "      <td>Sales Executive</td>\n",
       "      <td>3</td>\n",
       "      <td>Divorced</td>\n",
       "      <td>19</td>\n",
       "      <td>3</td>\n",
       "      <td>9</td>\n",
       "      <td>1</td>\n",
       "      <td>0</td>\n",
       "      <td>0</td>\n",
       "      <td>0</td>\n",
       "    </tr>\n",
       "    <tr>\n",
       "      <th>1</th>\n",
       "      <td>No</td>\n",
       "      <td>39</td>\n",
       "      <td>Travel_Rarely</td>\n",
       "      <td>Research &amp; Development</td>\n",
       "      <td>3</td>\n",
       "      <td>2</td>\n",
       "      <td>3</td>\n",
       "      <td>Male</td>\n",
       "      <td>2</td>\n",
       "      <td>Laboratory Technician</td>\n",
       "      <td>3</td>\n",
       "      <td>Divorced</td>\n",
       "      <td>15</td>\n",
       "      <td>3</td>\n",
       "      <td>11</td>\n",
       "      <td>10</td>\n",
       "      <td>8</td>\n",
       "      <td>0</td>\n",
       "      <td>7</td>\n",
       "    </tr>\n",
       "    <tr>\n",
       "      <th>2</th>\n",
       "      <td>No</td>\n",
       "      <td>52</td>\n",
       "      <td>Travel_Frequently</td>\n",
       "      <td>Research &amp; Development</td>\n",
       "      <td>25</td>\n",
       "      <td>4</td>\n",
       "      <td>3</td>\n",
       "      <td>Female</td>\n",
       "      <td>4</td>\n",
       "      <td>Manufacturing Director</td>\n",
       "      <td>4</td>\n",
       "      <td>Married</td>\n",
       "      <td>22</td>\n",
       "      <td>4</td>\n",
       "      <td>31</td>\n",
       "      <td>9</td>\n",
       "      <td>8</td>\n",
       "      <td>0</td>\n",
       "      <td>0</td>\n",
       "    </tr>\n",
       "    <tr>\n",
       "      <th>3</th>\n",
       "      <td>No</td>\n",
       "      <td>50</td>\n",
       "      <td>Non-Travel</td>\n",
       "      <td>Sales</td>\n",
       "      <td>1</td>\n",
       "      <td>3</td>\n",
       "      <td>4</td>\n",
       "      <td>Female</td>\n",
       "      <td>2</td>\n",
       "      <td>Sales Executive</td>\n",
       "      <td>3</td>\n",
       "      <td>Married</td>\n",
       "      <td>12</td>\n",
       "      <td>3</td>\n",
       "      <td>19</td>\n",
       "      <td>18</td>\n",
       "      <td>7</td>\n",
       "      <td>0</td>\n",
       "      <td>13</td>\n",
       "    </tr>\n",
       "    <tr>\n",
       "      <th>4</th>\n",
       "      <td>No</td>\n",
       "      <td>44</td>\n",
       "      <td>Travel_Rarely</td>\n",
       "      <td>Research &amp; Development</td>\n",
       "      <td>4</td>\n",
       "      <td>3</td>\n",
       "      <td>4</td>\n",
       "      <td>Male</td>\n",
       "      <td>2</td>\n",
       "      <td>Healthcare Representative</td>\n",
       "      <td>2</td>\n",
       "      <td>Single</td>\n",
       "      <td>12</td>\n",
       "      <td>3</td>\n",
       "      <td>10</td>\n",
       "      <td>5</td>\n",
       "      <td>2</td>\n",
       "      <td>2</td>\n",
       "      <td>3</td>\n",
       "    </tr>\n",
       "  </tbody>\n",
       "</table>\n",
       "</div>"
      ],
      "text/plain": [
       "  left_company  age frequency_of_travel              department  \\\n",
       "0           No   37       Travel_Rarely                   Sales   \n",
       "1           No   39       Travel_Rarely  Research & Development   \n",
       "2           No   52   Travel_Frequently  Research & Development   \n",
       "3           No   50          Non-Travel                   Sales   \n",
       "4           No   44       Travel_Rarely  Research & Development   \n",
       "\n",
       "   commuting_distance  education  satisfaction_with_environment  gender  \\\n",
       "0                  16          4                              4    Male   \n",
       "1                   3          2                              3    Male   \n",
       "2                  25          4                              3  Female   \n",
       "3                   1          3                              4  Female   \n",
       "4                   4          3                              4    Male   \n",
       "\n",
       "   seniority_level                   position  satisfaction_with_job  \\\n",
       "0                2            Sales Executive                      3   \n",
       "1                2      Laboratory Technician                      3   \n",
       "2                4     Manufacturing Director                      4   \n",
       "3                2            Sales Executive                      3   \n",
       "4                2  Healthcare Representative                      2   \n",
       "\n",
       "  married_or_single  last_raise_pct  last_performance_rating  \\\n",
       "0          Divorced              19                        3   \n",
       "1          Divorced              15                        3   \n",
       "2           Married              22                        4   \n",
       "3           Married              12                        3   \n",
       "4            Single              12                        3   \n",
       "\n",
       "   total_years_working  years_at_company  years_in_current_job  \\\n",
       "0                    9                 1                     0   \n",
       "1                   11                10                     8   \n",
       "2                   31                 9                     8   \n",
       "3                   19                18                     7   \n",
       "4                   10                 5                     2   \n",
       "\n",
       "   years_since_last_promotion  years_with_current_supervisor  \n",
       "0                           0                              0  \n",
       "1                           0                              7  \n",
       "2                           0                              0  \n",
       "3                           0                             13  \n",
       "4                           2                              3  "
      ]
     },
     "execution_count": 1,
     "metadata": {},
     "output_type": "execute_result"
    }
   ],
   "source": [
    "import pandas as pd\n",
    "import numpy as np\n",
    "import matplotlib.pyplot as plt\n",
    "\n",
    "\n",
    "df = pd.read_csv('https://raw.githubusercontent.com/msaricaumbc/DS_data/master/ds602/log_reg/employee-turnover-balanced.csv')\n",
    "df.head()"
   ]
  },
  {
   "cell_type": "markdown",
   "id": "6ac56c7f",
   "metadata": {},
   "source": [
    "### Question 1"
   ]
  },
  {
   "cell_type": "code",
   "execution_count": 2,
   "id": "124ed1ae",
   "metadata": {},
   "outputs": [
    {
     "data": {
      "text/plain": [
       "No     500\n",
       "Yes    500\n",
       "Name: left_company, dtype: int64"
      ]
     },
     "execution_count": 2,
     "metadata": {},
     "output_type": "execute_result"
    }
   ],
   "source": [
    "df[\"left_company\"].value_counts()"
   ]
  },
  {
   "cell_type": "markdown",
   "id": "4ae38ae7",
   "metadata": {},
   "source": [
    "#### Here we can see that there are a 50-50 split between the two cases, thus there is no imbalance at all"
   ]
  },
  {
   "cell_type": "markdown",
   "id": "f5978ab1",
   "metadata": {},
   "source": [
    "### Question 2"
   ]
  },
  {
   "cell_type": "code",
   "execution_count": 3,
   "id": "6dde1a8e",
   "metadata": {},
   "outputs": [],
   "source": [
    "cat_vars = list(df.dtypes[df.dtypes == object].index)\n",
    "num_vars = list(df.dtypes[df.dtypes == 'int64'].index)"
   ]
  },
  {
   "cell_type": "code",
   "execution_count": 4,
   "id": "1689c8fe",
   "metadata": {},
   "outputs": [
    {
     "data": {
      "text/plain": [
       "['left_company',\n",
       " 'frequency_of_travel',\n",
       " 'department',\n",
       " 'gender',\n",
       " 'position',\n",
       " 'married_or_single']"
      ]
     },
     "execution_count": 4,
     "metadata": {},
     "output_type": "execute_result"
    }
   ],
   "source": [
    "cat_vars"
   ]
  },
  {
   "cell_type": "code",
   "execution_count": 5,
   "id": "1655225c",
   "metadata": {},
   "outputs": [
    {
     "data": {
      "text/plain": [
       "['age',\n",
       " 'commuting_distance',\n",
       " 'education',\n",
       " 'satisfaction_with_environment',\n",
       " 'seniority_level',\n",
       " 'satisfaction_with_job',\n",
       " 'last_raise_pct',\n",
       " 'last_performance_rating',\n",
       " 'total_years_working',\n",
       " 'years_at_company',\n",
       " 'years_in_current_job',\n",
       " 'years_since_last_promotion',\n",
       " 'years_with_current_supervisor']"
      ]
     },
     "execution_count": 5,
     "metadata": {},
     "output_type": "execute_result"
    }
   ],
   "source": [
    "num_vars"
   ]
  },
  {
   "cell_type": "markdown",
   "id": "58ab02cb",
   "metadata": {},
   "source": [
    "#### I would split them based on their dtype. When printing dtype, it gives the column name as index and the type. So we take the index values of all those where the value is object, for categorical, and int for num_vars. This works in this case as there are no float or other number types, else we would have had to account for those as well"
   ]
  },
  {
   "cell_type": "markdown",
   "id": "67590b6e",
   "metadata": {},
   "source": [
    "### Question 3"
   ]
  },
  {
   "cell_type": "code",
   "execution_count": 6,
   "id": "1a62edeb",
   "metadata": {},
   "outputs": [
    {
     "name": "stderr",
     "output_type": "stream",
     "text": [
      "C:\\Users\\Tarun\\AppData\\Local\\Temp\\ipykernel_32920\\1303404223.py:2: FutureWarning: The default value of numeric_only in DataFrame.corr is deprecated. In a future version, it will default to False. Select only valid columns or specify the value of numeric_only to silence this warning.\n",
      "  df.corr()\n"
     ]
    },
    {
     "data": {
      "text/html": [
       "<div>\n",
       "<style scoped>\n",
       "    .dataframe tbody tr th:only-of-type {\n",
       "        vertical-align: middle;\n",
       "    }\n",
       "\n",
       "    .dataframe tbody tr th {\n",
       "        vertical-align: top;\n",
       "    }\n",
       "\n",
       "    .dataframe thead th {\n",
       "        text-align: right;\n",
       "    }\n",
       "</style>\n",
       "<table border=\"1\" class=\"dataframe\">\n",
       "  <thead>\n",
       "    <tr style=\"text-align: right;\">\n",
       "      <th></th>\n",
       "      <th>age</th>\n",
       "      <th>commuting_distance</th>\n",
       "      <th>education</th>\n",
       "      <th>satisfaction_with_environment</th>\n",
       "      <th>seniority_level</th>\n",
       "      <th>satisfaction_with_job</th>\n",
       "      <th>last_raise_pct</th>\n",
       "      <th>last_performance_rating</th>\n",
       "      <th>total_years_working</th>\n",
       "      <th>years_at_company</th>\n",
       "      <th>years_in_current_job</th>\n",
       "      <th>years_since_last_promotion</th>\n",
       "      <th>years_with_current_supervisor</th>\n",
       "    </tr>\n",
       "  </thead>\n",
       "  <tbody>\n",
       "    <tr>\n",
       "      <th>age</th>\n",
       "      <td>1.000000</td>\n",
       "      <td>0.012074</td>\n",
       "      <td>0.199138</td>\n",
       "      <td>0.001556</td>\n",
       "      <td>0.522604</td>\n",
       "      <td>0.095242</td>\n",
       "      <td>0.027851</td>\n",
       "      <td>0.003629</td>\n",
       "      <td>0.673804</td>\n",
       "      <td>0.384760</td>\n",
       "      <td>0.310010</td>\n",
       "      <td>0.242456</td>\n",
       "      <td>0.273679</td>\n",
       "    </tr>\n",
       "    <tr>\n",
       "      <th>commuting_distance</th>\n",
       "      <td>0.012074</td>\n",
       "      <td>1.000000</td>\n",
       "      <td>0.033003</td>\n",
       "      <td>-0.019556</td>\n",
       "      <td>0.038915</td>\n",
       "      <td>0.023859</td>\n",
       "      <td>0.104421</td>\n",
       "      <td>0.089282</td>\n",
       "      <td>0.025593</td>\n",
       "      <td>0.023017</td>\n",
       "      <td>0.031890</td>\n",
       "      <td>0.047552</td>\n",
       "      <td>0.031520</td>\n",
       "    </tr>\n",
       "    <tr>\n",
       "      <th>education</th>\n",
       "      <td>0.199138</td>\n",
       "      <td>0.033003</td>\n",
       "      <td>1.000000</td>\n",
       "      <td>-0.059586</td>\n",
       "      <td>0.080685</td>\n",
       "      <td>0.015148</td>\n",
       "      <td>0.013515</td>\n",
       "      <td>-0.014162</td>\n",
       "      <td>0.160822</td>\n",
       "      <td>0.091614</td>\n",
       "      <td>0.073181</td>\n",
       "      <td>0.077218</td>\n",
       "      <td>0.083453</td>\n",
       "    </tr>\n",
       "    <tr>\n",
       "      <th>satisfaction_with_environment</th>\n",
       "      <td>0.001556</td>\n",
       "      <td>-0.019556</td>\n",
       "      <td>-0.059586</td>\n",
       "      <td>1.000000</td>\n",
       "      <td>0.009462</td>\n",
       "      <td>-0.006160</td>\n",
       "      <td>0.014812</td>\n",
       "      <td>0.006943</td>\n",
       "      <td>-0.027203</td>\n",
       "      <td>0.001339</td>\n",
       "      <td>0.023698</td>\n",
       "      <td>0.042132</td>\n",
       "      <td>0.021875</td>\n",
       "    </tr>\n",
       "    <tr>\n",
       "      <th>seniority_level</th>\n",
       "      <td>0.522604</td>\n",
       "      <td>0.038915</td>\n",
       "      <td>0.080685</td>\n",
       "      <td>0.009462</td>\n",
       "      <td>1.000000</td>\n",
       "      <td>0.040606</td>\n",
       "      <td>-0.022683</td>\n",
       "      <td>-0.029956</td>\n",
       "      <td>0.779351</td>\n",
       "      <td>0.572724</td>\n",
       "      <td>0.478151</td>\n",
       "      <td>0.392935</td>\n",
       "      <td>0.430047</td>\n",
       "    </tr>\n",
       "    <tr>\n",
       "      <th>satisfaction_with_job</th>\n",
       "      <td>0.095242</td>\n",
       "      <td>0.023859</td>\n",
       "      <td>0.015148</td>\n",
       "      <td>-0.006160</td>\n",
       "      <td>0.040606</td>\n",
       "      <td>1.000000</td>\n",
       "      <td>-0.037273</td>\n",
       "      <td>-0.089030</td>\n",
       "      <td>0.029119</td>\n",
       "      <td>0.071920</td>\n",
       "      <td>0.037591</td>\n",
       "      <td>0.038015</td>\n",
       "      <td>0.001472</td>\n",
       "    </tr>\n",
       "    <tr>\n",
       "      <th>last_raise_pct</th>\n",
       "      <td>0.027851</td>\n",
       "      <td>0.104421</td>\n",
       "      <td>0.013515</td>\n",
       "      <td>0.014812</td>\n",
       "      <td>-0.022683</td>\n",
       "      <td>-0.037273</td>\n",
       "      <td>1.000000</td>\n",
       "      <td>0.792791</td>\n",
       "      <td>-0.004905</td>\n",
       "      <td>0.004435</td>\n",
       "      <td>0.039691</td>\n",
       "      <td>0.000615</td>\n",
       "      <td>0.060882</td>\n",
       "    </tr>\n",
       "    <tr>\n",
       "      <th>last_performance_rating</th>\n",
       "      <td>0.003629</td>\n",
       "      <td>0.089282</td>\n",
       "      <td>-0.014162</td>\n",
       "      <td>0.006943</td>\n",
       "      <td>-0.029956</td>\n",
       "      <td>-0.089030</td>\n",
       "      <td>0.792791</td>\n",
       "      <td>1.000000</td>\n",
       "      <td>0.014877</td>\n",
       "      <td>0.022364</td>\n",
       "      <td>0.087038</td>\n",
       "      <td>0.030595</td>\n",
       "      <td>0.100502</td>\n",
       "    </tr>\n",
       "    <tr>\n",
       "      <th>total_years_working</th>\n",
       "      <td>0.673804</td>\n",
       "      <td>0.025593</td>\n",
       "      <td>0.160822</td>\n",
       "      <td>-0.027203</td>\n",
       "      <td>0.779351</td>\n",
       "      <td>0.029119</td>\n",
       "      <td>-0.004905</td>\n",
       "      <td>0.014877</td>\n",
       "      <td>1.000000</td>\n",
       "      <td>0.685955</td>\n",
       "      <td>0.548494</td>\n",
       "      <td>0.423619</td>\n",
       "      <td>0.506007</td>\n",
       "    </tr>\n",
       "    <tr>\n",
       "      <th>years_at_company</th>\n",
       "      <td>0.384760</td>\n",
       "      <td>0.023017</td>\n",
       "      <td>0.091614</td>\n",
       "      <td>0.001339</td>\n",
       "      <td>0.572724</td>\n",
       "      <td>0.071920</td>\n",
       "      <td>0.004435</td>\n",
       "      <td>0.022364</td>\n",
       "      <td>0.685955</td>\n",
       "      <td>1.000000</td>\n",
       "      <td>0.801423</td>\n",
       "      <td>0.630344</td>\n",
       "      <td>0.781147</td>\n",
       "    </tr>\n",
       "    <tr>\n",
       "      <th>years_in_current_job</th>\n",
       "      <td>0.310010</td>\n",
       "      <td>0.031890</td>\n",
       "      <td>0.073181</td>\n",
       "      <td>0.023698</td>\n",
       "      <td>0.478151</td>\n",
       "      <td>0.037591</td>\n",
       "      <td>0.039691</td>\n",
       "      <td>0.087038</td>\n",
       "      <td>0.548494</td>\n",
       "      <td>0.801423</td>\n",
       "      <td>1.000000</td>\n",
       "      <td>0.611928</td>\n",
       "      <td>0.781647</td>\n",
       "    </tr>\n",
       "    <tr>\n",
       "      <th>years_since_last_promotion</th>\n",
       "      <td>0.242456</td>\n",
       "      <td>0.047552</td>\n",
       "      <td>0.077218</td>\n",
       "      <td>0.042132</td>\n",
       "      <td>0.392935</td>\n",
       "      <td>0.038015</td>\n",
       "      <td>0.000615</td>\n",
       "      <td>0.030595</td>\n",
       "      <td>0.423619</td>\n",
       "      <td>0.630344</td>\n",
       "      <td>0.611928</td>\n",
       "      <td>1.000000</td>\n",
       "      <td>0.599529</td>\n",
       "    </tr>\n",
       "    <tr>\n",
       "      <th>years_with_current_supervisor</th>\n",
       "      <td>0.273679</td>\n",
       "      <td>0.031520</td>\n",
       "      <td>0.083453</td>\n",
       "      <td>0.021875</td>\n",
       "      <td>0.430047</td>\n",
       "      <td>0.001472</td>\n",
       "      <td>0.060882</td>\n",
       "      <td>0.100502</td>\n",
       "      <td>0.506007</td>\n",
       "      <td>0.781147</td>\n",
       "      <td>0.781647</td>\n",
       "      <td>0.599529</td>\n",
       "      <td>1.000000</td>\n",
       "    </tr>\n",
       "  </tbody>\n",
       "</table>\n",
       "</div>"
      ],
      "text/plain": [
       "                                    age  commuting_distance  education  \\\n",
       "age                            1.000000            0.012074   0.199138   \n",
       "commuting_distance             0.012074            1.000000   0.033003   \n",
       "education                      0.199138            0.033003   1.000000   \n",
       "satisfaction_with_environment  0.001556           -0.019556  -0.059586   \n",
       "seniority_level                0.522604            0.038915   0.080685   \n",
       "satisfaction_with_job          0.095242            0.023859   0.015148   \n",
       "last_raise_pct                 0.027851            0.104421   0.013515   \n",
       "last_performance_rating        0.003629            0.089282  -0.014162   \n",
       "total_years_working            0.673804            0.025593   0.160822   \n",
       "years_at_company               0.384760            0.023017   0.091614   \n",
       "years_in_current_job           0.310010            0.031890   0.073181   \n",
       "years_since_last_promotion     0.242456            0.047552   0.077218   \n",
       "years_with_current_supervisor  0.273679            0.031520   0.083453   \n",
       "\n",
       "                               satisfaction_with_environment  seniority_level  \\\n",
       "age                                                 0.001556         0.522604   \n",
       "commuting_distance                                 -0.019556         0.038915   \n",
       "education                                          -0.059586         0.080685   \n",
       "satisfaction_with_environment                       1.000000         0.009462   \n",
       "seniority_level                                     0.009462         1.000000   \n",
       "satisfaction_with_job                              -0.006160         0.040606   \n",
       "last_raise_pct                                      0.014812        -0.022683   \n",
       "last_performance_rating                             0.006943        -0.029956   \n",
       "total_years_working                                -0.027203         0.779351   \n",
       "years_at_company                                    0.001339         0.572724   \n",
       "years_in_current_job                                0.023698         0.478151   \n",
       "years_since_last_promotion                          0.042132         0.392935   \n",
       "years_with_current_supervisor                       0.021875         0.430047   \n",
       "\n",
       "                               satisfaction_with_job  last_raise_pct  \\\n",
       "age                                         0.095242        0.027851   \n",
       "commuting_distance                          0.023859        0.104421   \n",
       "education                                   0.015148        0.013515   \n",
       "satisfaction_with_environment              -0.006160        0.014812   \n",
       "seniority_level                             0.040606       -0.022683   \n",
       "satisfaction_with_job                       1.000000       -0.037273   \n",
       "last_raise_pct                             -0.037273        1.000000   \n",
       "last_performance_rating                    -0.089030        0.792791   \n",
       "total_years_working                         0.029119       -0.004905   \n",
       "years_at_company                            0.071920        0.004435   \n",
       "years_in_current_job                        0.037591        0.039691   \n",
       "years_since_last_promotion                  0.038015        0.000615   \n",
       "years_with_current_supervisor               0.001472        0.060882   \n",
       "\n",
       "                               last_performance_rating  total_years_working  \\\n",
       "age                                           0.003629             0.673804   \n",
       "commuting_distance                            0.089282             0.025593   \n",
       "education                                    -0.014162             0.160822   \n",
       "satisfaction_with_environment                 0.006943            -0.027203   \n",
       "seniority_level                              -0.029956             0.779351   \n",
       "satisfaction_with_job                        -0.089030             0.029119   \n",
       "last_raise_pct                                0.792791            -0.004905   \n",
       "last_performance_rating                       1.000000             0.014877   \n",
       "total_years_working                           0.014877             1.000000   \n",
       "years_at_company                              0.022364             0.685955   \n",
       "years_in_current_job                          0.087038             0.548494   \n",
       "years_since_last_promotion                    0.030595             0.423619   \n",
       "years_with_current_supervisor                 0.100502             0.506007   \n",
       "\n",
       "                               years_at_company  years_in_current_job  \\\n",
       "age                                    0.384760              0.310010   \n",
       "commuting_distance                     0.023017              0.031890   \n",
       "education                              0.091614              0.073181   \n",
       "satisfaction_with_environment          0.001339              0.023698   \n",
       "seniority_level                        0.572724              0.478151   \n",
       "satisfaction_with_job                  0.071920              0.037591   \n",
       "last_raise_pct                         0.004435              0.039691   \n",
       "last_performance_rating                0.022364              0.087038   \n",
       "total_years_working                    0.685955              0.548494   \n",
       "years_at_company                       1.000000              0.801423   \n",
       "years_in_current_job                   0.801423              1.000000   \n",
       "years_since_last_promotion             0.630344              0.611928   \n",
       "years_with_current_supervisor          0.781147              0.781647   \n",
       "\n",
       "                               years_since_last_promotion  \\\n",
       "age                                              0.242456   \n",
       "commuting_distance                               0.047552   \n",
       "education                                        0.077218   \n",
       "satisfaction_with_environment                    0.042132   \n",
       "seniority_level                                  0.392935   \n",
       "satisfaction_with_job                            0.038015   \n",
       "last_raise_pct                                   0.000615   \n",
       "last_performance_rating                          0.030595   \n",
       "total_years_working                              0.423619   \n",
       "years_at_company                                 0.630344   \n",
       "years_in_current_job                             0.611928   \n",
       "years_since_last_promotion                       1.000000   \n",
       "years_with_current_supervisor                    0.599529   \n",
       "\n",
       "                               years_with_current_supervisor  \n",
       "age                                                 0.273679  \n",
       "commuting_distance                                  0.031520  \n",
       "education                                           0.083453  \n",
       "satisfaction_with_environment                       0.021875  \n",
       "seniority_level                                     0.430047  \n",
       "satisfaction_with_job                               0.001472  \n",
       "last_raise_pct                                      0.060882  \n",
       "last_performance_rating                             0.100502  \n",
       "total_years_working                                 0.506007  \n",
       "years_at_company                                    0.781147  \n",
       "years_in_current_job                                0.781647  \n",
       "years_since_last_promotion                          0.599529  \n",
       "years_with_current_supervisor                       1.000000  "
      ]
     },
     "execution_count": 6,
     "metadata": {},
     "output_type": "execute_result"
    }
   ],
   "source": [
    "#to check for colinearity, we need to see how heavily correlated our numerical columns are\n",
    "df.corr()"
   ]
  },
  {
   "cell_type": "code",
   "execution_count": 7,
   "id": "ba5c21e8",
   "metadata": {},
   "outputs": [
    {
     "name": "stdout",
     "output_type": "stream",
     "text": [
      "There are no values between 0.9 and 1 in the DataFrame.\n"
     ]
    },
    {
     "name": "stderr",
     "output_type": "stream",
     "text": [
      "C:\\Users\\Tarun\\AppData\\Local\\Temp\\ipykernel_32920\\1624126779.py:1: FutureWarning: The default value of numeric_only in DataFrame.corr is deprecated. In a future version, it will default to False. Select only valid columns or specify the value of numeric_only to silence this warning.\n",
      "  mask = (df.corr() > 0.9) & (df.corr() < 1)\n"
     ]
    }
   ],
   "source": [
    "mask = (df.corr() > 0.9) & (df.corr() < 1)\n",
    "\n",
    "if mask.any().any():\n",
    "    print(\"There are values between 0.9 and 1 in the DataFrame.\")\n",
    "else:\n",
    "    print(\"There are no values between 0.9 and 1 in the DataFrame.\")"
   ]
  },
  {
   "cell_type": "markdown",
   "id": "57f99a75",
   "metadata": {},
   "source": [
    "#### Thus, we can see there is no high correlation between any of the numerical columns. Hence, we will not be dropping any columns as they all provide valuable information"
   ]
  },
  {
   "cell_type": "markdown",
   "id": "a1c1a46e",
   "metadata": {},
   "source": [
    "### Question 4"
   ]
  },
  {
   "cell_type": "code",
   "execution_count": 8,
   "id": "7f9f768a",
   "metadata": {},
   "outputs": [],
   "source": [
    "X = df.drop(columns='left_company')\n",
    "y = df['left_company']"
   ]
  },
  {
   "cell_type": "code",
   "execution_count": 9,
   "id": "031a73f8",
   "metadata": {},
   "outputs": [],
   "source": [
    "from sklearn.model_selection import train_test_split\n",
    "X_train, X_test, y_train, y_test = train_test_split(X, y, test_size=0.20,random_state=124)"
   ]
  },
  {
   "cell_type": "markdown",
   "id": "08aff5b7",
   "metadata": {},
   "source": [
    "### Question 5"
   ]
  },
  {
   "cell_type": "code",
   "execution_count": 10,
   "id": "0ea2b658",
   "metadata": {},
   "outputs": [],
   "source": [
    "from sklearn.pipeline import Pipeline\n",
    "from sklearn.compose import ColumnTransformer\n",
    "from sklearn.impute import SimpleImputer\n",
    "from sklearn.preprocessing import OneHotEncoder\n",
    "from sklearn.preprocessing import StandardScaler\n",
    "\n",
    "\n",
    "num_pipeline = Pipeline([('impute_missing', SimpleImputer(strategy='median')),\n",
    "                           ('standardize_num', StandardScaler())\n",
    "                        ])\n",
    "\n",
    "cat_pipeline = Pipeline([('impute_missing_cats', SimpleImputer(strategy='most_frequent')),\n",
    "                          ('create_dummies_cats', OneHotEncoder(handle_unknown='ignore', drop='first'))])\n",
    "\n",
    "processing_pipeline = ColumnTransformer(transformers=[('proc_numeric', num_pipeline, num_vars)])"
   ]
  },
  {
   "cell_type": "code",
   "execution_count": 11,
   "id": "d651a725",
   "metadata": {},
   "outputs": [
    {
     "data": {
      "text/plain": [
       "(1000, 13)"
      ]
     },
     "execution_count": 11,
     "metadata": {},
     "output_type": "execute_result"
    }
   ],
   "source": [
    "processing_pipeline.fit_transform(df).shape"
   ]
  },
  {
   "cell_type": "code",
   "execution_count": 12,
   "id": "af7bee7d",
   "metadata": {},
   "outputs": [
    {
     "data": {
      "text/plain": [
       "13"
      ]
     },
     "execution_count": 12,
     "metadata": {},
     "output_type": "execute_result"
    }
   ],
   "source": [
    "len(num_vars)"
   ]
  },
  {
   "cell_type": "markdown",
   "id": "c8815a62",
   "metadata": {},
   "source": [
    "#### As we can see, this is matching. Now for categorical,"
   ]
  },
  {
   "cell_type": "code",
   "execution_count": 13,
   "id": "71055343",
   "metadata": {},
   "outputs": [],
   "source": [
    "processing_pipeline = ColumnTransformer(transformers=[('create_dummies', cat_pipeline, cat_vars)])"
   ]
  },
  {
   "cell_type": "code",
   "execution_count": 14,
   "id": "9cf30580",
   "metadata": {},
   "outputs": [
    {
     "data": {
      "text/plain": [
       "(1000, 16)"
      ]
     },
     "execution_count": 14,
     "metadata": {},
     "output_type": "execute_result"
    }
   ],
   "source": [
    "processing_pipeline.fit_transform(df).shape"
   ]
  },
  {
   "cell_type": "code",
   "execution_count": 15,
   "id": "80f0cf75",
   "metadata": {},
   "outputs": [
    {
     "name": "stdout",
     "output_type": "stream",
     "text": [
      "['No' 'Yes']\n",
      "['Travel_Rarely' 'Travel_Frequently' 'Non-Travel']\n",
      "['Sales' 'Research & Development' 'Human Resources']\n",
      "['Male' 'Female']\n",
      "['Sales Executive' 'Laboratory Technician' 'Manufacturing Director'\n",
      " 'Healthcare Representative' 'Manager' 'Research Scientist'\n",
      " 'Research Director' 'Sales Representative' 'Human Resources']\n",
      "['Divorced' 'Married' 'Single']\n"
     ]
    }
   ],
   "source": [
    "for i in cat_vars:\n",
    "    print(df[i].unique())"
   ]
  },
  {
   "cell_type": "markdown",
   "id": "e6d537b7",
   "metadata": {},
   "source": [
    "#### This adds up to 22, for the 6 different types of categorical variables. However, when we drop the redundant first columns of each of these in one hot encoding, it comes to 16, which matches"
   ]
  },
  {
   "cell_type": "markdown",
   "id": "f68d7c98",
   "metadata": {},
   "source": [
    "### Question 6"
   ]
  },
  {
   "cell_type": "code",
   "execution_count": 16,
   "id": "2da1e93a",
   "metadata": {},
   "outputs": [],
   "source": [
    "processing_pipeline = ColumnTransformer(transformers=[('proc_numeric', num_pipeline, num_vars),\n",
    "                                                      ('create_dummies', cat_pipeline, cat_vars[1:])]) #taking all except left company"
   ]
  },
  {
   "cell_type": "code",
   "execution_count": 17,
   "id": "348cf5f7",
   "metadata": {},
   "outputs": [
    {
     "data": {
      "text/html": [
       "<style>#sk-container-id-1 {color: black;background-color: white;}#sk-container-id-1 pre{padding: 0;}#sk-container-id-1 div.sk-toggleable {background-color: white;}#sk-container-id-1 label.sk-toggleable__label {cursor: pointer;display: block;width: 100%;margin-bottom: 0;padding: 0.3em;box-sizing: border-box;text-align: center;}#sk-container-id-1 label.sk-toggleable__label-arrow:before {content: \"▸\";float: left;margin-right: 0.25em;color: #696969;}#sk-container-id-1 label.sk-toggleable__label-arrow:hover:before {color: black;}#sk-container-id-1 div.sk-estimator:hover label.sk-toggleable__label-arrow:before {color: black;}#sk-container-id-1 div.sk-toggleable__content {max-height: 0;max-width: 0;overflow: hidden;text-align: left;background-color: #f0f8ff;}#sk-container-id-1 div.sk-toggleable__content pre {margin: 0.2em;color: black;border-radius: 0.25em;background-color: #f0f8ff;}#sk-container-id-1 input.sk-toggleable__control:checked~div.sk-toggleable__content {max-height: 200px;max-width: 100%;overflow: auto;}#sk-container-id-1 input.sk-toggleable__control:checked~label.sk-toggleable__label-arrow:before {content: \"▾\";}#sk-container-id-1 div.sk-estimator input.sk-toggleable__control:checked~label.sk-toggleable__label {background-color: #d4ebff;}#sk-container-id-1 div.sk-label input.sk-toggleable__control:checked~label.sk-toggleable__label {background-color: #d4ebff;}#sk-container-id-1 input.sk-hidden--visually {border: 0;clip: rect(1px 1px 1px 1px);clip: rect(1px, 1px, 1px, 1px);height: 1px;margin: -1px;overflow: hidden;padding: 0;position: absolute;width: 1px;}#sk-container-id-1 div.sk-estimator {font-family: monospace;background-color: #f0f8ff;border: 1px dotted black;border-radius: 0.25em;box-sizing: border-box;margin-bottom: 0.5em;}#sk-container-id-1 div.sk-estimator:hover {background-color: #d4ebff;}#sk-container-id-1 div.sk-parallel-item::after {content: \"\";width: 100%;border-bottom: 1px solid gray;flex-grow: 1;}#sk-container-id-1 div.sk-label:hover label.sk-toggleable__label {background-color: #d4ebff;}#sk-container-id-1 div.sk-serial::before {content: \"\";position: absolute;border-left: 1px solid gray;box-sizing: border-box;top: 0;bottom: 0;left: 50%;z-index: 0;}#sk-container-id-1 div.sk-serial {display: flex;flex-direction: column;align-items: center;background-color: white;padding-right: 0.2em;padding-left: 0.2em;position: relative;}#sk-container-id-1 div.sk-item {position: relative;z-index: 1;}#sk-container-id-1 div.sk-parallel {display: flex;align-items: stretch;justify-content: center;background-color: white;position: relative;}#sk-container-id-1 div.sk-item::before, #sk-container-id-1 div.sk-parallel-item::before {content: \"\";position: absolute;border-left: 1px solid gray;box-sizing: border-box;top: 0;bottom: 0;left: 50%;z-index: -1;}#sk-container-id-1 div.sk-parallel-item {display: flex;flex-direction: column;z-index: 1;position: relative;background-color: white;}#sk-container-id-1 div.sk-parallel-item:first-child::after {align-self: flex-end;width: 50%;}#sk-container-id-1 div.sk-parallel-item:last-child::after {align-self: flex-start;width: 50%;}#sk-container-id-1 div.sk-parallel-item:only-child::after {width: 0;}#sk-container-id-1 div.sk-dashed-wrapped {border: 1px dashed gray;margin: 0 0.4em 0.5em 0.4em;box-sizing: border-box;padding-bottom: 0.4em;background-color: white;}#sk-container-id-1 div.sk-label label {font-family: monospace;font-weight: bold;display: inline-block;line-height: 1.2em;}#sk-container-id-1 div.sk-label-container {text-align: center;}#sk-container-id-1 div.sk-container {/* jupyter's `normalize.less` sets `[hidden] { display: none; }` but bootstrap.min.css set `[hidden] { display: none !important; }` so we also need the `!important` here to be able to override the default hidden behavior on the sphinx rendered scikit-learn.org. See: https://github.com/scikit-learn/scikit-learn/issues/21755 */display: inline-block !important;position: relative;}#sk-container-id-1 div.sk-text-repr-fallback {display: none;}</style><div id=\"sk-container-id-1\" class=\"sk-top-container\"><div class=\"sk-text-repr-fallback\"><pre>Pipeline(steps=[(&#x27;data_processing&#x27;,\n",
       "                 ColumnTransformer(transformers=[(&#x27;proc_numeric&#x27;,\n",
       "                                                  Pipeline(steps=[(&#x27;impute_missing&#x27;,\n",
       "                                                                   SimpleImputer(strategy=&#x27;median&#x27;)),\n",
       "                                                                  (&#x27;standardize_num&#x27;,\n",
       "                                                                   StandardScaler())]),\n",
       "                                                  [&#x27;age&#x27;, &#x27;commuting_distance&#x27;,\n",
       "                                                   &#x27;education&#x27;,\n",
       "                                                   &#x27;satisfaction_with_environment&#x27;,\n",
       "                                                   &#x27;seniority_level&#x27;,\n",
       "                                                   &#x27;satisfaction_with_job&#x27;,\n",
       "                                                   &#x27;last_raise_pct&#x27;,\n",
       "                                                   &#x27;last_performance_rating&#x27;,\n",
       "                                                   &#x27;to...\n",
       "                                                   &#x27;years_in_current_job&#x27;,\n",
       "                                                   &#x27;years_since_last_promotion&#x27;,\n",
       "                                                   &#x27;years_with_current_supervisor&#x27;]),\n",
       "                                                 (&#x27;create_dummies&#x27;,\n",
       "                                                  Pipeline(steps=[(&#x27;impute_missing_cats&#x27;,\n",
       "                                                                   SimpleImputer(strategy=&#x27;most_frequent&#x27;)),\n",
       "                                                                  (&#x27;create_dummies_cats&#x27;,\n",
       "                                                                   OneHotEncoder(drop=&#x27;first&#x27;,\n",
       "                                                                                 handle_unknown=&#x27;ignore&#x27;))]),\n",
       "                                                  [&#x27;frequency_of_travel&#x27;,\n",
       "                                                   &#x27;department&#x27;, &#x27;gender&#x27;,\n",
       "                                                   &#x27;position&#x27;,\n",
       "                                                   &#x27;married_or_single&#x27;])])),\n",
       "                (&#x27;lm&#x27;, LogisticRegression())])</pre><b>In a Jupyter environment, please rerun this cell to show the HTML representation or trust the notebook. <br />On GitHub, the HTML representation is unable to render, please try loading this page with nbviewer.org.</b></div><div class=\"sk-container\" hidden><div class=\"sk-item sk-dashed-wrapped\"><div class=\"sk-label-container\"><div class=\"sk-label sk-toggleable\"><input class=\"sk-toggleable__control sk-hidden--visually\" id=\"sk-estimator-id-1\" type=\"checkbox\" ><label for=\"sk-estimator-id-1\" class=\"sk-toggleable__label sk-toggleable__label-arrow\">Pipeline</label><div class=\"sk-toggleable__content\"><pre>Pipeline(steps=[(&#x27;data_processing&#x27;,\n",
       "                 ColumnTransformer(transformers=[(&#x27;proc_numeric&#x27;,\n",
       "                                                  Pipeline(steps=[(&#x27;impute_missing&#x27;,\n",
       "                                                                   SimpleImputer(strategy=&#x27;median&#x27;)),\n",
       "                                                                  (&#x27;standardize_num&#x27;,\n",
       "                                                                   StandardScaler())]),\n",
       "                                                  [&#x27;age&#x27;, &#x27;commuting_distance&#x27;,\n",
       "                                                   &#x27;education&#x27;,\n",
       "                                                   &#x27;satisfaction_with_environment&#x27;,\n",
       "                                                   &#x27;seniority_level&#x27;,\n",
       "                                                   &#x27;satisfaction_with_job&#x27;,\n",
       "                                                   &#x27;last_raise_pct&#x27;,\n",
       "                                                   &#x27;last_performance_rating&#x27;,\n",
       "                                                   &#x27;to...\n",
       "                                                   &#x27;years_in_current_job&#x27;,\n",
       "                                                   &#x27;years_since_last_promotion&#x27;,\n",
       "                                                   &#x27;years_with_current_supervisor&#x27;]),\n",
       "                                                 (&#x27;create_dummies&#x27;,\n",
       "                                                  Pipeline(steps=[(&#x27;impute_missing_cats&#x27;,\n",
       "                                                                   SimpleImputer(strategy=&#x27;most_frequent&#x27;)),\n",
       "                                                                  (&#x27;create_dummies_cats&#x27;,\n",
       "                                                                   OneHotEncoder(drop=&#x27;first&#x27;,\n",
       "                                                                                 handle_unknown=&#x27;ignore&#x27;))]),\n",
       "                                                  [&#x27;frequency_of_travel&#x27;,\n",
       "                                                   &#x27;department&#x27;, &#x27;gender&#x27;,\n",
       "                                                   &#x27;position&#x27;,\n",
       "                                                   &#x27;married_or_single&#x27;])])),\n",
       "                (&#x27;lm&#x27;, LogisticRegression())])</pre></div></div></div><div class=\"sk-serial\"><div class=\"sk-item sk-dashed-wrapped\"><div class=\"sk-label-container\"><div class=\"sk-label sk-toggleable\"><input class=\"sk-toggleable__control sk-hidden--visually\" id=\"sk-estimator-id-2\" type=\"checkbox\" ><label for=\"sk-estimator-id-2\" class=\"sk-toggleable__label sk-toggleable__label-arrow\">data_processing: ColumnTransformer</label><div class=\"sk-toggleable__content\"><pre>ColumnTransformer(transformers=[(&#x27;proc_numeric&#x27;,\n",
       "                                 Pipeline(steps=[(&#x27;impute_missing&#x27;,\n",
       "                                                  SimpleImputer(strategy=&#x27;median&#x27;)),\n",
       "                                                 (&#x27;standardize_num&#x27;,\n",
       "                                                  StandardScaler())]),\n",
       "                                 [&#x27;age&#x27;, &#x27;commuting_distance&#x27;, &#x27;education&#x27;,\n",
       "                                  &#x27;satisfaction_with_environment&#x27;,\n",
       "                                  &#x27;seniority_level&#x27;, &#x27;satisfaction_with_job&#x27;,\n",
       "                                  &#x27;last_raise_pct&#x27;, &#x27;last_performance_rating&#x27;,\n",
       "                                  &#x27;total_years_working&#x27;, &#x27;years_at_company&#x27;,\n",
       "                                  &#x27;years_in_current_job&#x27;,\n",
       "                                  &#x27;years_since_last_promotion&#x27;,\n",
       "                                  &#x27;years_with_current_supervisor&#x27;]),\n",
       "                                (&#x27;create_dummies&#x27;,\n",
       "                                 Pipeline(steps=[(&#x27;impute_missing_cats&#x27;,\n",
       "                                                  SimpleImputer(strategy=&#x27;most_frequent&#x27;)),\n",
       "                                                 (&#x27;create_dummies_cats&#x27;,\n",
       "                                                  OneHotEncoder(drop=&#x27;first&#x27;,\n",
       "                                                                handle_unknown=&#x27;ignore&#x27;))]),\n",
       "                                 [&#x27;frequency_of_travel&#x27;, &#x27;department&#x27;, &#x27;gender&#x27;,\n",
       "                                  &#x27;position&#x27;, &#x27;married_or_single&#x27;])])</pre></div></div></div><div class=\"sk-parallel\"><div class=\"sk-parallel-item\"><div class=\"sk-item\"><div class=\"sk-label-container\"><div class=\"sk-label sk-toggleable\"><input class=\"sk-toggleable__control sk-hidden--visually\" id=\"sk-estimator-id-3\" type=\"checkbox\" ><label for=\"sk-estimator-id-3\" class=\"sk-toggleable__label sk-toggleable__label-arrow\">proc_numeric</label><div class=\"sk-toggleable__content\"><pre>[&#x27;age&#x27;, &#x27;commuting_distance&#x27;, &#x27;education&#x27;, &#x27;satisfaction_with_environment&#x27;, &#x27;seniority_level&#x27;, &#x27;satisfaction_with_job&#x27;, &#x27;last_raise_pct&#x27;, &#x27;last_performance_rating&#x27;, &#x27;total_years_working&#x27;, &#x27;years_at_company&#x27;, &#x27;years_in_current_job&#x27;, &#x27;years_since_last_promotion&#x27;, &#x27;years_with_current_supervisor&#x27;]</pre></div></div></div><div class=\"sk-serial\"><div class=\"sk-item\"><div class=\"sk-serial\"><div class=\"sk-item\"><div class=\"sk-estimator sk-toggleable\"><input class=\"sk-toggleable__control sk-hidden--visually\" id=\"sk-estimator-id-4\" type=\"checkbox\" ><label for=\"sk-estimator-id-4\" class=\"sk-toggleable__label sk-toggleable__label-arrow\">SimpleImputer</label><div class=\"sk-toggleable__content\"><pre>SimpleImputer(strategy=&#x27;median&#x27;)</pre></div></div></div><div class=\"sk-item\"><div class=\"sk-estimator sk-toggleable\"><input class=\"sk-toggleable__control sk-hidden--visually\" id=\"sk-estimator-id-5\" type=\"checkbox\" ><label for=\"sk-estimator-id-5\" class=\"sk-toggleable__label sk-toggleable__label-arrow\">StandardScaler</label><div class=\"sk-toggleable__content\"><pre>StandardScaler()</pre></div></div></div></div></div></div></div></div><div class=\"sk-parallel-item\"><div class=\"sk-item\"><div class=\"sk-label-container\"><div class=\"sk-label sk-toggleable\"><input class=\"sk-toggleable__control sk-hidden--visually\" id=\"sk-estimator-id-6\" type=\"checkbox\" ><label for=\"sk-estimator-id-6\" class=\"sk-toggleable__label sk-toggleable__label-arrow\">create_dummies</label><div class=\"sk-toggleable__content\"><pre>[&#x27;frequency_of_travel&#x27;, &#x27;department&#x27;, &#x27;gender&#x27;, &#x27;position&#x27;, &#x27;married_or_single&#x27;]</pre></div></div></div><div class=\"sk-serial\"><div class=\"sk-item\"><div class=\"sk-serial\"><div class=\"sk-item\"><div class=\"sk-estimator sk-toggleable\"><input class=\"sk-toggleable__control sk-hidden--visually\" id=\"sk-estimator-id-7\" type=\"checkbox\" ><label for=\"sk-estimator-id-7\" class=\"sk-toggleable__label sk-toggleable__label-arrow\">SimpleImputer</label><div class=\"sk-toggleable__content\"><pre>SimpleImputer(strategy=&#x27;most_frequent&#x27;)</pre></div></div></div><div class=\"sk-item\"><div class=\"sk-estimator sk-toggleable\"><input class=\"sk-toggleable__control sk-hidden--visually\" id=\"sk-estimator-id-8\" type=\"checkbox\" ><label for=\"sk-estimator-id-8\" class=\"sk-toggleable__label sk-toggleable__label-arrow\">OneHotEncoder</label><div class=\"sk-toggleable__content\"><pre>OneHotEncoder(drop=&#x27;first&#x27;, handle_unknown=&#x27;ignore&#x27;)</pre></div></div></div></div></div></div></div></div></div></div><div class=\"sk-item\"><div class=\"sk-estimator sk-toggleable\"><input class=\"sk-toggleable__control sk-hidden--visually\" id=\"sk-estimator-id-9\" type=\"checkbox\" ><label for=\"sk-estimator-id-9\" class=\"sk-toggleable__label sk-toggleable__label-arrow\">LogisticRegression</label><div class=\"sk-toggleable__content\"><pre>LogisticRegression()</pre></div></div></div></div></div></div></div>"
      ],
      "text/plain": [
       "Pipeline(steps=[('data_processing',\n",
       "                 ColumnTransformer(transformers=[('proc_numeric',\n",
       "                                                  Pipeline(steps=[('impute_missing',\n",
       "                                                                   SimpleImputer(strategy='median')),\n",
       "                                                                  ('standardize_num',\n",
       "                                                                   StandardScaler())]),\n",
       "                                                  ['age', 'commuting_distance',\n",
       "                                                   'education',\n",
       "                                                   'satisfaction_with_environment',\n",
       "                                                   'seniority_level',\n",
       "                                                   'satisfaction_with_job',\n",
       "                                                   'last_raise_pct',\n",
       "                                                   'last_performance_rating',\n",
       "                                                   'to...\n",
       "                                                   'years_in_current_job',\n",
       "                                                   'years_since_last_promotion',\n",
       "                                                   'years_with_current_supervisor']),\n",
       "                                                 ('create_dummies',\n",
       "                                                  Pipeline(steps=[('impute_missing_cats',\n",
       "                                                                   SimpleImputer(strategy='most_frequent')),\n",
       "                                                                  ('create_dummies_cats',\n",
       "                                                                   OneHotEncoder(drop='first',\n",
       "                                                                                 handle_unknown='ignore'))]),\n",
       "                                                  ['frequency_of_travel',\n",
       "                                                   'department', 'gender',\n",
       "                                                   'position',\n",
       "                                                   'married_or_single'])])),\n",
       "                ('lm', LogisticRegression())])"
      ]
     },
     "execution_count": 17,
     "metadata": {},
     "output_type": "execute_result"
    }
   ],
   "source": [
    "from sklearn.linear_model import LogisticRegression\n",
    "\n",
    "modeling_pipeline = Pipeline([('data_processing', processing_pipeline), \n",
    "                              ('lm', LogisticRegression())\n",
    "                             ])\n",
    "modeling_pipeline.fit(X_train, y_train)"
   ]
  },
  {
   "cell_type": "code",
   "execution_count": 18,
   "id": "f9197544",
   "metadata": {},
   "outputs": [],
   "source": [
    "test_predictions = modeling_pipeline.predict(X_test)\n",
    "train_predictions = modeling_pipeline.predict(X_train)"
   ]
  },
  {
   "cell_type": "code",
   "execution_count": 19,
   "id": "160a9491",
   "metadata": {},
   "outputs": [
    {
     "name": "stdout",
     "output_type": "stream",
     "text": [
      "Test data accuracy:0.66\n"
     ]
    }
   ],
   "source": [
    "from sklearn.metrics import accuracy_score\n",
    "print('Test data accuracy:' + str(accuracy_score(y_test, test_predictions)))"
   ]
  },
  {
   "cell_type": "code",
   "execution_count": 20,
   "id": "9fb02348",
   "metadata": {},
   "outputs": [
    {
     "name": "stdout",
     "output_type": "stream",
     "text": [
      "Train data accuracy:0.73375\n"
     ]
    }
   ],
   "source": [
    "print('Train data accuracy:' + str(accuracy_score(y_train, train_predictions)))"
   ]
  },
  {
   "cell_type": "markdown",
   "id": "0152e005",
   "metadata": {},
   "source": [
    "### Question 7"
   ]
  },
  {
   "cell_type": "markdown",
   "id": "75b30860",
   "metadata": {},
   "source": [
    "#### From the results, we can see that the training and test set are close to each other, so it is clear the model is not overfitting, which is a good thing. However, the accuracy itself is not that great. To fix this, multiple steps can bbe taken\n",
    "\n",
    "#### We can work with creating more features, which is called feature engineering. This could involve combining features in wasy that could be relevant to the data, which can be treated as polynomial features\n",
    "\n",
    "#### Another method is to use another machine learning algorithm itself. Maybe we might get better results from SVM, or random forest algorithms\n",
    "\n",
    "#### To evaluate this, we can analyze the ROC curve and the area under ths curve. It is also good to look at precision recall beyong just the accuracy as a metric"
   ]
  },
  {
   "cell_type": "code",
   "execution_count": null,
   "id": "8c2fe54d",
   "metadata": {},
   "outputs": [],
   "source": []
  }
 ],
 "metadata": {
  "kernelspec": {
   "display_name": "Python 3 (ipykernel)",
   "language": "python",
   "name": "python3"
  },
  "language_info": {
   "codemirror_mode": {
    "name": "ipython",
    "version": 3
   },
   "file_extension": ".py",
   "mimetype": "text/x-python",
   "name": "python",
   "nbconvert_exporter": "python",
   "pygments_lexer": "ipython3",
   "version": "3.10.6"
  }
 },
 "nbformat": 4,
 "nbformat_minor": 5
}
